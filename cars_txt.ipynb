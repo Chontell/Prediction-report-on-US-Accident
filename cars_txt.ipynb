{
  "nbformat": 4,
  "nbformat_minor": 0,
  "metadata": {
    "colab": {
      "name": "cars.txt",
      "provenance": [],
      "collapsed_sections": [],
      "toc_visible": true,
      "include_colab_link": true
    },
    "kernelspec": {
      "display_name": "Python 3",
      "name": "python3"
    }
  },
  "cells": [
    {
      "cell_type": "markdown",
      "metadata": {
        "id": "view-in-github",
        "colab_type": "text"
      },
      "source": [
        "<a href=\"https://colab.research.google.com/github/Chontell/Prediction-report-on-US-Accident/blob/master/cars_txt.ipynb\" target=\"_parent\"><img src=\"https://colab.research.google.com/assets/colab-badge.svg\" alt=\"Open In Colab\"/></a>"
      ]
    },
    {
      "cell_type": "markdown",
      "metadata": {
        "id": "MpW4Pq_ShhA1",
        "colab_type": "text"
      },
      "source": [
        "#                **Prediction report on US-Accident**\n",
        "\n",
        "\n"
      ]
    },
    {
      "cell_type": "markdown",
      "metadata": {
        "id": "3aKXILO-h1nL",
        "colab_type": "text"
      },
      "source": [
        "In recent years, road accidents have become a universal problem and are considered a significant cause of accidents. Road accidents put enormous impact on the economy of a country, public, society and environment. It is totally inappropriate and disheartening to see the people dying from road accidents. Almost every day, thousands of people lost their lives due to road accidents. It is observed that residential and shopping areas are riskier than less populated areas just because of higher exposure. Reducing the chance of road accidents is a very dominating and challenging topic of research. For handling this stagger issue, deep analysis of accident dataset is required. Accurate, huge and clean dataset of accidents is the basis of our prediction. Here we use some machine learning and deep learning models for analysis and prediction of road accidents. We also find out the relationship and effect of different variables on the occurrence of road accidents."
      ]
    },
    {
      "cell_type": "markdown",
      "metadata": {
        "id": "W2WtmCapiCmD",
        "colab_type": "text"
      },
      "source": [
        "**DataSource**\n",
        "A New dataset with the name “US Accident” has been used here which includes almost 2.25 million instances of traffic accidents that took place within the contiguous United States1 between February 2016 and March 2019. This data can be found \"https://smoosavi.org/datasets/us_accidents\n",
        "\". For creating this dataset, two important methods are used; streaming traffic reports and heterogeneous contextual data (weather, points-of-interests, etc.)."
      ]
    },
    {
      "cell_type": "markdown",
      "metadata": {
        "id": "5BakuCIvh5ke",
        "colab_type": "text"
      },
      "source": [
        "Mount Your Google drive\n",
        "\n",
        "---\n",
        "\n",
        "\n",
        "\n",
        "---\n",
        "\n",
        "\n",
        "If you have dataset at your PC, then you don't need to access google drive."
      ]
    },
    {
      "cell_type": "code",
      "metadata": {
        "id": "vxlglNC5LhFL",
        "colab_type": "code",
        "colab": {
          "base_uri": "https://localhost:8080/",
          "height": 34
        },
        "outputId": "44aeab45-e3a1-4c19-a067-9303b8f91e10"
      },
      "source": [
        "from google.colab import drive\n",
        "drive.mount('/content/drive')"
      ],
      "execution_count": null,
      "outputs": [
        {
          "output_type": "stream",
          "text": [
            "Mounted at /content/drive\n"
          ],
          "name": "stdout"
        }
      ]
    },
    {
      "cell_type": "markdown",
      "metadata": {
        "id": "_zkE-JoSjA42",
        "colab_type": "text"
      },
      "source": [
        "Import Basic Libraries of Python"
      ]
    },
    {
      "cell_type": "code",
      "metadata": {
        "id": "AGh662oKLjfg",
        "colab_type": "code",
        "colab": {
          "base_uri": "https://localhost:8080/",
          "height": 71
        },
        "outputId": "82e59c59-5b8b-4737-adc3-e4478dad5314"
      },
      "source": [
        "import numpy as np\n",
        "import pandas as pd\n",
        "from sklearn.model_selection import train_test_split\n",
        "from sklearn.preprocessing import StandardScaler\n",
        "import matplotlib.pyplot as plt\n",
        "import matplotlib.ticker as ticker\n",
        "import seaborn as sns\n",
        "from sklearn import preprocessing\n",
        "import heapq, random\n",
        "import plotly.graph_objects as go\n",
        "import sklearn.metrics as metrics\n",
        "import folium"
      ],
      "execution_count": null,
      "outputs": [
        {
          "output_type": "stream",
          "text": [
            "/usr/local/lib/python3.6/dist-packages/statsmodels/tools/_testing.py:19: FutureWarning: pandas.util.testing is deprecated. Use the functions in the public API at pandas.testing instead.\n",
            "  import pandas.util.testing as tm\n"
          ],
          "name": "stderr"
        }
      ]
    },
    {
      "cell_type": "markdown",
      "metadata": {
        "id": "Gfa6FGBPjJ25",
        "colab_type": "text"
      },
      "source": [
        "Read Dataset From Google drive"
      ]
    },
    {
      "cell_type": "code",
      "metadata": {
        "id": "wz2BpK6nLxdY",
        "colab_type": "code",
        "colab": {}
      },
      "source": [
        "DataGD = pd.read_csv('/content/drive/My Drive/US_Accidents_June20.csv')"
      ],
      "execution_count": null,
      "outputs": []
    },
    {
      "cell_type": "markdown",
      "metadata": {
        "id": "lHsRAhg7je08",
        "colab_type": "text"
      },
      "source": [
        "Three columns that feed time as a string data type need to convert these string formats to data-time formats"
      ]
    },
    {
      "cell_type": "code",
      "metadata": {
        "id": "SFs3s-lesN7_",
        "colab_type": "code",
        "colab": {}
      },
      "source": [
        "OneDate=DataGD['Start_Time']\n",
        "TwoDate=DataGD['End_Time']\n",
        "ThreeDate=DataGD['Start_Time']\n",
        "DataGD['Start_Time'] = pd.to_datetime(OneDate)\n",
        "DataGD['End_Time'] = pd.to_datetime(TwoDate)\n",
        "DataGD['WD']=DataGD['Start_Time'].dt.strftime('%a')"
      ],
      "execution_count": null,
      "outputs": []
    },
    {
      "cell_type": "markdown",
      "metadata": {
        "id": "prF8ufU7j-ba",
        "colab_type": "text"
      },
      "source": [
        "**Week Wise Accident Analysis** \n",
        "According to our data we insight that most of the accidents take place during working days because everyone is in a rush and tries to reach out to their destination as soon as possible. In most of the cases, this rushing became a reason of danger.\n"
      ]
    },
    {
      "cell_type": "code",
      "metadata": {
        "id": "IVS_xxaHwJ11",
        "colab_type": "code",
        "colab": {
          "base_uri": "https://localhost:8080/",
          "height": 445
        },
        "outputId": "e11699cf-7dde-4ccb-ff4d-48fb60f9c373"
      },
      "source": [
        "fig, ax=plt.subplots(figsize=(14,7))\n",
        "above = DataGD.groupby('WD').count()\n",
        "div=above.sum()\n",
        "ax.barh(list((above/div).index), list((above/div).ID), color = ['gold', 'coral','palevioletred', 'lightblue','lightgreen'])\n",
        "plt.title('WeekDay&Accident',fontsize=14);"
      ],
      "execution_count": null,
      "outputs": [
        {
          "output_type": "display_data",
          "data": {
            "image/png": "[encoded data removed]",
            "text/plain": [
              "<Figure size 1008x504 with 1 Axes>"
            ]
          },
          "metadata": {
            "tags": [],
            "needs_background": "light"
          }
        }
      ]
    },
    {
      "cell_type": "markdown",
      "metadata": {
        "id": "L7mjO2DNluNM",
        "colab_type": "text"
      },
      "source": [
        "**Visualizing Wind Direction**\n",
        "Here we visualize the wind direction with its counts within the whole dataset. Here south, SSW, S, SSE, SE, SW are considered South direction. Same for all other directions.\n"
      ]
    },
    {
      "cell_type": "code",
      "metadata": {
        "id": "5eOk3ppthO-9",
        "colab_type": "code",
        "colab": {
          "base_uri": "https://localhost:8080/",
          "height": 248
        },
        "outputId": "74594940-1f10-4e75-b924-640f12030594"
      },
      "source": [
        "Graph2_circle=plt.Circle( (0,0), 0.7, color='white')\n",
        "p=plt.gcf()\n",
        "p.gca().add_artist(Graph2_circle)\n",
        "Graph2=DataGD['Wind_Direction']\n",
        "plt.pie(list((Graph2.value_counts()).values), labels=list((Graph2.value_counts()).index))\n",
        "plt.show()\n"
      ],
      "execution_count": null,
      "outputs": [
        {
          "output_type": "display_data",
          "data": {
            "image/png": "[encoded data removed]",
            "text/plain": [
              "<Figure size 432x288 with 1 Axes>"
            ]
          },
          "metadata": {
            "tags": []
          }
        }
      ]
    },
    {
      "cell_type": "markdown",
      "metadata": {
        "id": "n3PJil7EmhI6",
        "colab_type": "text"
      },
      "source": [
        "**Accident relationship with state**\n",
        "Here we observe the relationship between the number of accidents and state. We observed that the highest number of accidents occurred at CA state. All other states have also been having high scores but almost 3 times less than CA. We also observed that SC and NC had almost similar number of accidents. \n"
      ]
    },
    {
      "cell_type": "code",
      "metadata": {
        "id": "xYRD1Z-4Oc1C",
        "colab_type": "code",
        "colab": {
          "base_uri": "https://localhost:8080/",
          "height": 530
        },
        "outputId": "6b6024a5-c973-4aa4-c12b-6c006b0b45ed"
      },
      "source": [
        "fig, ax=plt.subplots(figsize=(15,8))\n",
        "ax.xaxis.set_major_formatter(ticker.StrMethodFormatter('{x:,.0f}'))\n",
        "ax.xaxis.set_ticks_position('top')\n",
        "ax.tick_params(axis='x', colors='#777777', labelsize=12)\n",
        "ax.set_yticks([])\n",
        "ax.margins(0, 0.01)\n",
        "ax.grid(which='major', axis='x', linestyle='-')\n",
        "ax.set_axisbelow(True)\n",
        "ax.text(0, 1.12, '5 States with the Highest Accident Rate',\n",
        "            transform=ax.transAxes, size=15, weight=15, ha='left')\n",
        "DataGD_sate = DataGD.groupby('State').size().to_frame('Counts')\n",
        "DataGD_sate = DataGD_sate.reset_index().sort_values('Counts', ascending = False)[:5]\n",
        "DataGD_sate = DataGD_sate[::-1] \n",
        "a=DataGD_sate['State']\n",
        "b=DataGD_sate['Counts']\n",
        "ax.barh(a, b, color = ['gold', 'coral','palevioletred', 'lightblue','lightgreen'])\n",
        "for i, (Left, Right) in enumerate(zip(b, a)):\n",
        "        ax.text(Left, i,     Right,           size=15, weight=700, ha='right', va='bottom')\n",
        "        ax.text(Left, i-.25,     f'{Left:,.0f}',  size=15, ha='left',  va='center')\n",
        "        \n",
        "plt.box()"
      ],
      "execution_count": null,
      "outputs": [
        {
          "output_type": "display_data",
          "data": {
            "image/png": "[encoded data removed]",
            "text/plain": [
              "<Figure size 1080x576 with 1 Axes>"
            ]
          },
          "metadata": {
            "tags": [],
            "needs_background": "light"
          }
        }
      ]
    },
    {
      "cell_type": "code",
      "metadata": {
        "id": "5uBlrCAXZBU_",
        "colab_type": "code",
        "colab": {
          "base_uri": "https://localhost:8080/",
          "height": 549
        },
        "outputId": "12730f19-9084-4da3-f0c5-02259e5a2bed"
      },
      "source": [
        "plt.xticks(fontsize=9)\n",
        "plt.yticks(fontsize=9)\n",
        "plt.title('Correlation of multiple Columns') \n",
        "selection=['Source', 'TMC', 'Severity',\n",
        "       'Start_Lat', 'Start_Lng', 'Distance(mi)','Weather_Condition', 'Amenity', 'Bump', 'Crossing',\n",
        "       'Give_Way','Traffic_Signal', 'Turning_Loop',\n",
        "       'Sunrise_Sunset', 'Civil_Twilight', 'Nautical_Twilight',\n",
        "       'Astronomical_Twilight']\n",
        "Correlated_columns_names=DataGD[selection]\n",
        "aa=Correlated_columns_names.corr()\n",
        "FIGURE=sns.heatmap(aa,\n",
        "                annot=True,cmap='rocket',linewidths=0.99,annot_kws={'size':13})\n",
        "FIGURE=plt.gcf()\n",
        "FIGURE.set_size_inches(10,8)\n",
        "plt.show()"
      ],
      "execution_count": null,
      "outputs": [
        {
          "output_type": "display_data",
          "data": {
            "image/png": "[encoded data removed]",
            "text/plain": [
              "<Figure size 720x576 with 2 Axes>"
            ]
          },
          "metadata": {
            "tags": [],
            "needs_background": "light"
          }
        }
      ]
    },
    {
      "cell_type": "markdown",
      "metadata": {
        "id": "58SlkrjaqVI9",
        "colab_type": "text"
      },
      "source": [
        "**Calculation of target variable**\n",
        "Severity is our target column that contains 4 types from 1 to 4, where 1 represents the least impact on traffic and 2 shows greater than least impact, 3 shows huge impact that is greater than 2 but less than 4 and severity 4 mean significant impact on  traffic. We observed that almost 67.5% of records have severity 2, and severity 3 is 28%. In our prediction, all severity is important because we want to predict the dangerous situation for handling this in advance. Here severity 4 is only 3.2%.\n"
      ]
    },
    {
      "cell_type": "code",
      "metadata": {
        "id": "mBs5pUdabdjH",
        "colab_type": "code",
        "colab": {
          "base_uri": "https://localhost:8080/",
          "height": 687
        },
        "outputId": "3a7cf8fb-64bb-4aef-c864-e9d4517144aa"
      },
      "source": [
        "plt.figure(figsize=(9,8))\n",
        "Graph5=DataGD.groupby('Severity')\n",
        "Graph51=Graph5.size()\n",
        "Graph51_size=14\n",
        "plt.title('Severity',fontsize=Graph51_size);\n",
        "name_list=[1,2,3,4]\n",
        "seperate_area=(0.2,0,0,0)\n",
        "Graph51=Graph51[name_list]\n",
        "plt.pie(Graph51,\n",
        "        colors = ['brown','pink', 'rosybrown', 'orange'],\n",
        "        labels= ['Severity 1','Severity 2','Severity 3','Severity 4'],\n",
        "        explode = seperate_area, \n",
        "        autopct = ('%1.1f%%'))"
      ],
      "execution_count": null,
      "outputs": [
        {
          "output_type": "execute_result",
          "data": {
            "text/plain": [
              "([<matplotlib.patches.Wedge at 0x7f89f66f4278>,\n",
              "  <matplotlib.patches.Wedge at 0x7f89f66f4a20>,\n",
              "  <matplotlib.patches.Wedge at 0x7f89f67001d0>,\n",
              "  <matplotlib.patches.Wedge at 0x7f89f6700940>],\n",
              " [Text(1.2995577462014514, 0.033906699748052244, 'Severity 1'),\n",
              "  Text(-0.6241052769892766, 0.905810467611265, 'Severity 2'),\n",
              "  Text(0.5048265975206929, -0.9773178124006953, 'Severity 3'),\n",
              "  Text(1.094457560896949, -0.11028439325444706, 'Severity 4')],\n",
              " [Text(0.7997278438162776, 0.020865661383416764, '0.8%'),\n",
              "  Text(-0.340421060175969, 0.49407843687887176, '67.5%'),\n",
              "  Text(0.27535996228401427, -0.5330824431276519, '28.4%'),\n",
              "  Text(0.5969768513983357, -0.06015512359333475, '3.2%')])"
            ]
          },
          "metadata": {
            "tags": []
          },
          "execution_count": 9
        },
        {
          "output_type": "display_data",
          "data": {
            "image/png": "[encoded data removed]",
            "text/plain": [
              "<Figure size 648x576 with 1 Axes>"
            ]
          },
          "metadata": {
            "tags": []
          }
        }
      ]
    },
    {
      "cell_type": "markdown",
      "metadata": {
        "id": "kwBH1cS9rsBV",
        "colab_type": "text"
      },
      "source": [
        "Convrt StartTime to hours “end time” is not a useful feature, because it is calculated after an accident. But “start time” is a very important feature for prediction. Unfortunately, Handling with dates is complex in machine learning. Due to this, we extracted hour, week, day, minute from start time and created 5 new columns for the representation of “start time”. "
      ]
    },
    {
      "cell_type": "code",
      "metadata": {
        "id": "qMsLFcO2hxfe",
        "colab_type": "code",
        "colab": {}
      },
      "source": [
        "change=DataGD['Start_Time']\n",
        "DataGD['HHH']=change.dt.hour\n",
        "n_m=DataGD['Start_Time'].dt.month\n",
        "DataGD['MON']=n_m\n",
        "date=np.cumsum(np.array([0,31,28,31,30,31,30,31,31,30,31,30,31]))\n",
        "abc=[]\n",
        "for i in n_m.values:\n",
        "  abc.append(date[i-1])\n",
        "C=DataGD[\"Start_Time\"].dt.day.values\n",
        "DataGD['Current_Day']=abc + C\n",
        "A=DataGD['HHH']*60.0\n",
        "B=DataGD[\"Start_Time\"].dt.minute\n",
        "DataGD['Min']=A+B"
      ],
      "execution_count": null,
      "outputs": []
    },
    {
      "cell_type": "markdown",
      "metadata": {
        "id": "GpH-i8q0sFjd",
        "colab_type": "text"
      },
      "source": [
        "**Hour Wise Accidents Relation**\n",
        "Now we analyze the accident rate at each hour of a day. We observed that, according to our data most of the accident take place at 7 or 8 o'clock of morning. \n"
      ]
    },
    {
      "cell_type": "code",
      "metadata": {
        "id": "EYmYk1edf7zv",
        "colab_type": "code",
        "colab": {
          "base_uri": "https://localhost:8080/",
          "height": 369
        },
        "outputId": "c3d088c4-8ba8-47ad-89c1-6818c6e4bd16"
      },
      "source": [
        "plt.figure(figsize =(10,5))\n",
        "plt.title('Hour wise Accident visulization')\n",
        "PLOT_THIS1=DataGD.groupby(['HHH'])\n",
        "PLOT_THIS2=PLOT_THIS1.size()\n",
        "PLOT_THIS2.plot.bar(color=['orange','pink','red','purple','blue','brown','rosybrown','cyan','magenta','green'])\n",
        "plt.xlabel('hour')\n",
        "plt.ylabel('#of accidents')"
      ],
      "execution_count": null,
      "outputs": [
        {
          "output_type": "execute_result",
          "data": {
            "text/plain": [
              "Text(0, 0.5, '#of accidents')"
            ]
          },
          "metadata": {
            "tags": []
          },
          "execution_count": 11
        },
        {
          "output_type": "display_data",
          "data": {
            "image/png": "[encoded data removed]",
            "text/plain": [
              "<Figure size 720x360 with 1 Axes>"
            ]
          },
          "metadata": {
            "tags": [],
            "needs_background": "light"
          }
        }
      ]
    },
    {
      "cell_type": "markdown",
      "metadata": {
        "id": "BoEQ4A2GtFV0",
        "colab_type": "text"
      },
      "source": [
        "**Relationship between weather and Accident**\n",
        "Weather is the most important factor in accident prediction because mostly accidents occur in fog and cloudy weather. But according to our data visualization, a lot of accidents occur in clear weather (300000). Accidents that occur in clear weather hold some other reason. Similarly, most of the accidents occur in cloudy weather. \n"
      ]
    },
    {
      "cell_type": "code",
      "metadata": {
        "id": "bITb-hoGhnPh",
        "colab_type": "code",
        "colab": {
          "base_uri": "https://localhost:8080/",
          "height": 298
        },
        "outputId": "e970c621-43ad-492f-d670-70104b496ea8"
      },
      "source": [
        "Graph7=DataGD.groupby('Weather_Condition')\n",
        "Graph71 =Graph7.count()\n",
        "a=list(Graph71.index)\n",
        "bb=heapq.nlargest(10, Graph71.Number)\n",
        "l=[]\n",
        "for i in range(10):\n",
        "  b=list(Graph71.Number)\n",
        "  ind=b.index(bb[i])\n",
        "  l.append(ind)\n",
        "aa = [a[i] for i in l] \n",
        "y = bb\n",
        "z = list(range(1,11))\n",
        "n = aa\n",
        "fig, ax = plt.subplots()\n",
        "ax.scatter(z, y)\n",
        "c=['orange','pink','red','purple','blue','brown','rosybrown','cyan','magenta','green']\n",
        "for i, txt in enumerate(n):\n",
        "    ax.annotate(txt, (z[i], y[i]),color=c[i])\n",
        "plt.title('RelationShip of Weather and number of Accident')"
      ],
      "execution_count": null,
      "outputs": [
        {
          "output_type": "execute_result",
          "data": {
            "text/plain": [
              "Text(0.5, 1.0, 'RelationShip of Weather and number of Accident')"
            ]
          },
          "metadata": {
            "tags": []
          },
          "execution_count": 12
        },
        {
          "output_type": "display_data",
          "data": {
            "image/png": "[encoded data removed]",
            "text/plain": [
              "<Figure size 432x288 with 1 Axes>"
            ]
          },
          "metadata": {
            "tags": [],
            "needs_background": "light"
          }
        }
      ]
    },
    {
      "cell_type": "markdown",
      "metadata": {
        "id": "10ANQ0o9vADG",
        "colab_type": "text"
      },
      "source": [
        "**Relationship between Number, State and severity**\n",
        "Here we plot three things in one plot, one is state that shows different states of US, second one is number of accidents occur in each state. Each vertical bar represents a different state. Height of each bar shows the number of accidents in the corresponding state. One more thing is two different colors in each bar, these colors divide the accident into two parts severity 1 and 4. Orange color for severity one and blue color for severity 4. We analyze that, almost each state has faced severity 4 accidents. \n"
      ]
    },
    {
      "cell_type": "code",
      "metadata": {
        "id": "09YiConljxLr",
        "colab_type": "code",
        "colab": {
          "base_uri": "https://localhost:8080/",
          "height": 632
        },
        "outputId": "b0a43a1b-e0f8-4d6e-9266-3b3c8e98b38c"
      },
      "source": [
        "s1=[]\n",
        "s4=[]\n",
        "plt.figure(figsize=(16,10))\n",
        "plt.xlabel('State')\n",
        "plt.ylabel('Accident Count')\n",
        "plt.title('Show accident count w.r.t state and type of Severity')\n",
        "Graph8_select=DataGD['State']\n",
        "Graph8_state=Graph8_select.unique()\n",
        "for i in Graph8_state:\n",
        "    A=(DataGD['Severity']==1)\n",
        "    B=(DataGD['State']==i)\n",
        "    graph8=A&B\n",
        "    graph81=DataGD[graph8]\n",
        "    aa=graph81.count()['ID']\n",
        "    s1.append(aa)\n",
        "    AA=(DataGD['Severity']==4)\n",
        "    BB=(DataGD['State']==i)\n",
        "    graph88=AA&BB\n",
        "    graph82=DataGD[graph88]\n",
        "    bb=graph82.count()['ID']\n",
        "    s4.append(bb)\n",
        "plt.bar(Graph8_state, s4, label='Severity 4')\n",
        "plt.bar(Graph8_state, s1, label='Severity 1')\n",
        "plt.legend()"
      ],
      "execution_count": null,
      "outputs": [
        {
          "output_type": "execute_result",
          "data": {
            "text/plain": [
              "<matplotlib.legend.Legend at 0x7f89efb76198>"
            ]
          },
          "metadata": {
            "tags": []
          },
          "execution_count": 13
        },
        {
          "output_type": "display_data",
          "data": {
            "image/png": "[encoded data removed]",
            "text/plain": [
              "<Figure size 1152x720 with 1 Axes>"
            ]
          },
          "metadata": {
            "tags": [],
            "needs_background": "light"
          }
        }
      ]
    },
    {
      "cell_type": "markdown",
      "metadata": {
        "id": "pryoQbBS3251",
        "colab_type": "text"
      },
      "source": [
        "**Data Cleaning and Preprocessing**"
      ]
    },
    {
      "cell_type": "markdown",
      "metadata": {
        "id": "2VfHhfmTlLEl",
        "colab_type": "text"
      },
      "source": [
        "Print Dataset"
      ]
    },
    {
      "cell_type": "code",
      "metadata": {
        "id": "oDk3Ul5jlH40",
        "colab_type": "code",
        "colab": {
          "base_uri": "https://localhost:8080/",
          "height": 1000
        },
        "outputId": "b45725b2-3526-4bb1-eb67-08b79fa7a067"
      },
      "source": [
        "DataGD"
      ],
      "execution_count": null,
      "outputs": [
        {
          "output_type": "execute_result",
          "data": {
            "text/html": [
              "<div>\n",
              "<style scoped>\n",
              "    .dataframe tbody tr th:only-of-type {\n",
              "        vertical-align: middle;\n",
              "    }\n",
              "\n",
              "    .dataframe tbody tr th {\n",
              "        vertical-align: top;\n",
              "    }\n",
              "\n",
              "    .dataframe thead th {\n",
              "        text-align: right;\n",
              "    }\n",
              "</style>\n",
              "<table border=\"1\" class=\"dataframe\">\n",
              "  <thead>\n",
              "    <tr style=\"text-align: right;\">\n",
              "      <th></th>\n",
              "      <th>ID</th>\n",
              "      <th>Source</th>\n",
              "      <th>TMC</th>\n",
              "      <th>Severity</th>\n",
              "      <th>Start_Time</th>\n",
              "      <th>End_Time</th>\n",
              "      <th>Start_Lat</th>\n",
              "      <th>Start_Lng</th>\n",
              "      <th>End_Lat</th>\n",
              "      <th>End_Lng</th>\n",
              "      <th>Distance(mi)</th>\n",
              "      <th>Description</th>\n",
              "      <th>Number</th>\n",
              "      <th>Street</th>\n",
              "      <th>Side</th>\n",
              "      <th>City</th>\n",
              "      <th>County</th>\n",
              "      <th>State</th>\n",
              "      <th>Zipcode</th>\n",
              "      <th>Country</th>\n",
              "      <th>Timezone</th>\n",
              "      <th>Airport_Code</th>\n",
              "      <th>Weather_Timestamp</th>\n",
              "      <th>Temperature(F)</th>\n",
              "      <th>Wind_Chill(F)</th>\n",
              "      <th>Humidity(%)</th>\n",
              "      <th>Pressure(in)</th>\n",
              "      <th>Visibility(mi)</th>\n",
              "      <th>Wind_Direction</th>\n",
              "      <th>Wind_Speed(mph)</th>\n",
              "      <th>Precipitation(in)</th>\n",
              "      <th>Weather_Condition</th>\n",
              "      <th>Amenity</th>\n",
              "      <th>Bump</th>\n",
              "      <th>Crossing</th>\n",
              "      <th>Give_Way</th>\n",
              "      <th>Junction</th>\n",
              "      <th>No_Exit</th>\n",
              "      <th>Railway</th>\n",
              "      <th>Roundabout</th>\n",
              "      <th>Station</th>\n",
              "      <th>Stop</th>\n",
              "      <th>Traffic_Calming</th>\n",
              "      <th>Traffic_Signal</th>\n",
              "      <th>Turning_Loop</th>\n",
              "      <th>Sunrise_Sunset</th>\n",
              "      <th>Civil_Twilight</th>\n",
              "      <th>Nautical_Twilight</th>\n",
              "      <th>Astronomical_Twilight</th>\n",
              "      <th>WD</th>\n",
              "      <th>HHH</th>\n",
              "      <th>MON</th>\n",
              "      <th>Current_Day</th>\n",
              "      <th>Min</th>\n",
              "    </tr>\n",
              "  </thead>\n",
              "  <tbody>\n",
              "    <tr>\n",
              "      <th>0</th>\n",
              "      <td>A-1</td>\n",
              "      <td>MapQuest</td>\n",
              "      <td>201.0</td>\n",
              "      <td>3</td>\n",
              "      <td>2016-02-08 05:46:00</td>\n",
              "      <td>2016-02-08 11:00:00</td>\n",
              "      <td>39.865147</td>\n",
              "      <td>-84.058723</td>\n",
              "      <td>NaN</td>\n",
              "      <td>NaN</td>\n",
              "      <td>0.010</td>\n",
              "      <td>Right lane blocked due to accident on I-70 Eas...</td>\n",
              "      <td>NaN</td>\n",
              "      <td>I-70 E</td>\n",
              "      <td>R</td>\n",
              "      <td>Dayton</td>\n",
              "      <td>Montgomery</td>\n",
              "      <td>OH</td>\n",
              "      <td>45424</td>\n",
              "      <td>US</td>\n",
              "      <td>US/Eastern</td>\n",
              "      <td>KFFO</td>\n",
              "      <td>2016-02-08 05:58:00</td>\n",
              "      <td>36.9</td>\n",
              "      <td>NaN</td>\n",
              "      <td>91.0</td>\n",
              "      <td>29.68</td>\n",
              "      <td>10.0</td>\n",
              "      <td>Calm</td>\n",
              "      <td>NaN</td>\n",
              "      <td>0.02</td>\n",
              "      <td>Light Rain</td>\n",
              "      <td>False</td>\n",
              "      <td>False</td>\n",
              "      <td>False</td>\n",
              "      <td>False</td>\n",
              "      <td>False</td>\n",
              "      <td>False</td>\n",
              "      <td>False</td>\n",
              "      <td>False</td>\n",
              "      <td>False</td>\n",
              "      <td>False</td>\n",
              "      <td>False</td>\n",
              "      <td>False</td>\n",
              "      <td>False</td>\n",
              "      <td>Night</td>\n",
              "      <td>Night</td>\n",
              "      <td>Night</td>\n",
              "      <td>Night</td>\n",
              "      <td>Mon</td>\n",
              "      <td>5</td>\n",
              "      <td>2</td>\n",
              "      <td>39</td>\n",
              "      <td>346.0</td>\n",
              "    </tr>\n",
              "    <tr>\n",
              "      <th>1</th>\n",
              "      <td>A-2</td>\n",
              "      <td>MapQuest</td>\n",
              "      <td>201.0</td>\n",
              "      <td>2</td>\n",
              "      <td>2016-02-08 06:07:59</td>\n",
              "      <td>2016-02-08 06:37:59</td>\n",
              "      <td>39.928059</td>\n",
              "      <td>-82.831184</td>\n",
              "      <td>NaN</td>\n",
              "      <td>NaN</td>\n",
              "      <td>0.010</td>\n",
              "      <td>Accident on Brice Rd at Tussing Rd. Expect del...</td>\n",
              "      <td>2584.0</td>\n",
              "      <td>Brice Rd</td>\n",
              "      <td>L</td>\n",
              "      <td>Reynoldsburg</td>\n",
              "      <td>Franklin</td>\n",
              "      <td>OH</td>\n",
              "      <td>43068-3402</td>\n",
              "      <td>US</td>\n",
              "      <td>US/Eastern</td>\n",
              "      <td>KCMH</td>\n",
              "      <td>2016-02-08 05:51:00</td>\n",
              "      <td>37.9</td>\n",
              "      <td>NaN</td>\n",
              "      <td>100.0</td>\n",
              "      <td>29.65</td>\n",
              "      <td>10.0</td>\n",
              "      <td>Calm</td>\n",
              "      <td>NaN</td>\n",
              "      <td>0.00</td>\n",
              "      <td>Light Rain</td>\n",
              "      <td>False</td>\n",
              "      <td>False</td>\n",
              "      <td>False</td>\n",
              "      <td>False</td>\n",
              "      <td>False</td>\n",
              "      <td>False</td>\n",
              "      <td>False</td>\n",
              "      <td>False</td>\n",
              "      <td>False</td>\n",
              "      <td>False</td>\n",
              "      <td>False</td>\n",
              "      <td>False</td>\n",
              "      <td>False</td>\n",
              "      <td>Night</td>\n",
              "      <td>Night</td>\n",
              "      <td>Night</td>\n",
              "      <td>Day</td>\n",
              "      <td>Mon</td>\n",
              "      <td>6</td>\n",
              "      <td>2</td>\n",
              "      <td>39</td>\n",
              "      <td>367.0</td>\n",
              "    </tr>\n",
              "    <tr>\n",
              "      <th>2</th>\n",
              "      <td>A-3</td>\n",
              "      <td>MapQuest</td>\n",
              "      <td>201.0</td>\n",
              "      <td>2</td>\n",
              "      <td>2016-02-08 06:49:27</td>\n",
              "      <td>2016-02-08 07:19:27</td>\n",
              "      <td>39.063148</td>\n",
              "      <td>-84.032608</td>\n",
              "      <td>NaN</td>\n",
              "      <td>NaN</td>\n",
              "      <td>0.010</td>\n",
              "      <td>Accident on OH-32 State Route 32 Westbound at ...</td>\n",
              "      <td>NaN</td>\n",
              "      <td>State Route 32</td>\n",
              "      <td>R</td>\n",
              "      <td>Williamsburg</td>\n",
              "      <td>Clermont</td>\n",
              "      <td>OH</td>\n",
              "      <td>45176</td>\n",
              "      <td>US</td>\n",
              "      <td>US/Eastern</td>\n",
              "      <td>KI69</td>\n",
              "      <td>2016-02-08 06:56:00</td>\n",
              "      <td>36.0</td>\n",
              "      <td>33.3</td>\n",
              "      <td>100.0</td>\n",
              "      <td>29.67</td>\n",
              "      <td>10.0</td>\n",
              "      <td>SW</td>\n",
              "      <td>3.5</td>\n",
              "      <td>NaN</td>\n",
              "      <td>Overcast</td>\n",
              "      <td>False</td>\n",
              "      <td>False</td>\n",
              "      <td>False</td>\n",
              "      <td>False</td>\n",
              "      <td>False</td>\n",
              "      <td>False</td>\n",
              "      <td>False</td>\n",
              "      <td>False</td>\n",
              "      <td>False</td>\n",
              "      <td>False</td>\n",
              "      <td>False</td>\n",
              "      <td>True</td>\n",
              "      <td>False</td>\n",
              "      <td>Night</td>\n",
              "      <td>Night</td>\n",
              "      <td>Day</td>\n",
              "      <td>Day</td>\n",
              "      <td>Mon</td>\n",
              "      <td>6</td>\n",
              "      <td>2</td>\n",
              "      <td>39</td>\n",
              "      <td>409.0</td>\n",
              "    </tr>\n",
              "    <tr>\n",
              "      <th>3</th>\n",
              "      <td>A-4</td>\n",
              "      <td>MapQuest</td>\n",
              "      <td>201.0</td>\n",
              "      <td>3</td>\n",
              "      <td>2016-02-08 07:23:34</td>\n",
              "      <td>2016-02-08 07:53:34</td>\n",
              "      <td>39.747753</td>\n",
              "      <td>-84.205582</td>\n",
              "      <td>NaN</td>\n",
              "      <td>NaN</td>\n",
              "      <td>0.010</td>\n",
              "      <td>Accident on I-75 Southbound at Exits 52 52B US...</td>\n",
              "      <td>NaN</td>\n",
              "      <td>I-75 S</td>\n",
              "      <td>R</td>\n",
              "      <td>Dayton</td>\n",
              "      <td>Montgomery</td>\n",
              "      <td>OH</td>\n",
              "      <td>45417</td>\n",
              "      <td>US</td>\n",
              "      <td>US/Eastern</td>\n",
              "      <td>KDAY</td>\n",
              "      <td>2016-02-08 07:38:00</td>\n",
              "      <td>35.1</td>\n",
              "      <td>31.0</td>\n",
              "      <td>96.0</td>\n",
              "      <td>29.64</td>\n",
              "      <td>9.0</td>\n",
              "      <td>SW</td>\n",
              "      <td>4.6</td>\n",
              "      <td>NaN</td>\n",
              "      <td>Mostly Cloudy</td>\n",
              "      <td>False</td>\n",
              "      <td>False</td>\n",
              "      <td>False</td>\n",
              "      <td>False</td>\n",
              "      <td>False</td>\n",
              "      <td>False</td>\n",
              "      <td>False</td>\n",
              "      <td>False</td>\n",
              "      <td>False</td>\n",
              "      <td>False</td>\n",
              "      <td>False</td>\n",
              "      <td>False</td>\n",
              "      <td>False</td>\n",
              "      <td>Night</td>\n",
              "      <td>Day</td>\n",
              "      <td>Day</td>\n",
              "      <td>Day</td>\n",
              "      <td>Mon</td>\n",
              "      <td>7</td>\n",
              "      <td>2</td>\n",
              "      <td>39</td>\n",
              "      <td>443.0</td>\n",
              "    </tr>\n",
              "    <tr>\n",
              "      <th>4</th>\n",
              "      <td>A-5</td>\n",
              "      <td>MapQuest</td>\n",
              "      <td>201.0</td>\n",
              "      <td>2</td>\n",
              "      <td>2016-02-08 07:39:07</td>\n",
              "      <td>2016-02-08 08:09:07</td>\n",
              "      <td>39.627781</td>\n",
              "      <td>-84.188354</td>\n",
              "      <td>NaN</td>\n",
              "      <td>NaN</td>\n",
              "      <td>0.010</td>\n",
              "      <td>Accident on McEwen Rd at OH-725 Miamisburg Cen...</td>\n",
              "      <td>NaN</td>\n",
              "      <td>Miamisburg Centerville Rd</td>\n",
              "      <td>R</td>\n",
              "      <td>Dayton</td>\n",
              "      <td>Montgomery</td>\n",
              "      <td>OH</td>\n",
              "      <td>45459</td>\n",
              "      <td>US</td>\n",
              "      <td>US/Eastern</td>\n",
              "      <td>KMGY</td>\n",
              "      <td>2016-02-08 07:53:00</td>\n",
              "      <td>36.0</td>\n",
              "      <td>33.3</td>\n",
              "      <td>89.0</td>\n",
              "      <td>29.65</td>\n",
              "      <td>6.0</td>\n",
              "      <td>SW</td>\n",
              "      <td>3.5</td>\n",
              "      <td>NaN</td>\n",
              "      <td>Mostly Cloudy</td>\n",
              "      <td>False</td>\n",
              "      <td>False</td>\n",
              "      <td>False</td>\n",
              "      <td>False</td>\n",
              "      <td>False</td>\n",
              "      <td>False</td>\n",
              "      <td>False</td>\n",
              "      <td>False</td>\n",
              "      <td>False</td>\n",
              "      <td>False</td>\n",
              "      <td>False</td>\n",
              "      <td>True</td>\n",
              "      <td>False</td>\n",
              "      <td>Day</td>\n",
              "      <td>Day</td>\n",
              "      <td>Day</td>\n",
              "      <td>Day</td>\n",
              "      <td>Mon</td>\n",
              "      <td>7</td>\n",
              "      <td>2</td>\n",
              "      <td>39</td>\n",
              "      <td>459.0</td>\n",
              "    </tr>\n",
              "    <tr>\n",
              "      <th>...</th>\n",
              "      <td>...</td>\n",
              "      <td>...</td>\n",
              "      <td>...</td>\n",
              "      <td>...</td>\n",
              "      <td>...</td>\n",
              "      <td>...</td>\n",
              "      <td>...</td>\n",
              "      <td>...</td>\n",
              "      <td>...</td>\n",
              "      <td>...</td>\n",
              "      <td>...</td>\n",
              "      <td>...</td>\n",
              "      <td>...</td>\n",
              "      <td>...</td>\n",
              "      <td>...</td>\n",
              "      <td>...</td>\n",
              "      <td>...</td>\n",
              "      <td>...</td>\n",
              "      <td>...</td>\n",
              "      <td>...</td>\n",
              "      <td>...</td>\n",
              "      <td>...</td>\n",
              "      <td>...</td>\n",
              "      <td>...</td>\n",
              "      <td>...</td>\n",
              "      <td>...</td>\n",
              "      <td>...</td>\n",
              "      <td>...</td>\n",
              "      <td>...</td>\n",
              "      <td>...</td>\n",
              "      <td>...</td>\n",
              "      <td>...</td>\n",
              "      <td>...</td>\n",
              "      <td>...</td>\n",
              "      <td>...</td>\n",
              "      <td>...</td>\n",
              "      <td>...</td>\n",
              "      <td>...</td>\n",
              "      <td>...</td>\n",
              "      <td>...</td>\n",
              "      <td>...</td>\n",
              "      <td>...</td>\n",
              "      <td>...</td>\n",
              "      <td>...</td>\n",
              "      <td>...</td>\n",
              "      <td>...</td>\n",
              "      <td>...</td>\n",
              "      <td>...</td>\n",
              "      <td>...</td>\n",
              "      <td>...</td>\n",
              "      <td>...</td>\n",
              "      <td>...</td>\n",
              "      <td>...</td>\n",
              "      <td>...</td>\n",
              "    </tr>\n",
              "    <tr>\n",
              "      <th>3513612</th>\n",
              "      <td>A-3513776</td>\n",
              "      <td>Bing</td>\n",
              "      <td>NaN</td>\n",
              "      <td>2</td>\n",
              "      <td>2019-08-23 18:03:25</td>\n",
              "      <td>2019-08-23 18:32:01</td>\n",
              "      <td>34.002480</td>\n",
              "      <td>-117.379360</td>\n",
              "      <td>33.99888</td>\n",
              "      <td>-117.37094</td>\n",
              "      <td>0.543</td>\n",
              "      <td>At Market St - Accident.</td>\n",
              "      <td>NaN</td>\n",
              "      <td>Pomona Fwy E</td>\n",
              "      <td>R</td>\n",
              "      <td>Riverside</td>\n",
              "      <td>Riverside</td>\n",
              "      <td>CA</td>\n",
              "      <td>92501</td>\n",
              "      <td>US</td>\n",
              "      <td>US/Pacific</td>\n",
              "      <td>KRAL</td>\n",
              "      <td>2019-08-23 17:53:00</td>\n",
              "      <td>86.0</td>\n",
              "      <td>86.0</td>\n",
              "      <td>40.0</td>\n",
              "      <td>28.92</td>\n",
              "      <td>10.0</td>\n",
              "      <td>W</td>\n",
              "      <td>13.0</td>\n",
              "      <td>0.00</td>\n",
              "      <td>Fair</td>\n",
              "      <td>False</td>\n",
              "      <td>False</td>\n",
              "      <td>False</td>\n",
              "      <td>False</td>\n",
              "      <td>False</td>\n",
              "      <td>False</td>\n",
              "      <td>False</td>\n",
              "      <td>False</td>\n",
              "      <td>False</td>\n",
              "      <td>False</td>\n",
              "      <td>False</td>\n",
              "      <td>False</td>\n",
              "      <td>False</td>\n",
              "      <td>Day</td>\n",
              "      <td>Day</td>\n",
              "      <td>Day</td>\n",
              "      <td>Day</td>\n",
              "      <td>Fri</td>\n",
              "      <td>18</td>\n",
              "      <td>8</td>\n",
              "      <td>235</td>\n",
              "      <td>1083.0</td>\n",
              "    </tr>\n",
              "    <tr>\n",
              "      <th>3513613</th>\n",
              "      <td>A-3513777</td>\n",
              "      <td>Bing</td>\n",
              "      <td>NaN</td>\n",
              "      <td>2</td>\n",
              "      <td>2019-08-23 19:11:30</td>\n",
              "      <td>2019-08-23 19:38:23</td>\n",
              "      <td>32.766960</td>\n",
              "      <td>-117.148060</td>\n",
              "      <td>32.76555</td>\n",
              "      <td>-117.15363</td>\n",
              "      <td>0.338</td>\n",
              "      <td>At Camino Del Rio/Mission Center Rd - Accident.</td>\n",
              "      <td>NaN</td>\n",
              "      <td>I-8 W</td>\n",
              "      <td>R</td>\n",
              "      <td>San Diego</td>\n",
              "      <td>San Diego</td>\n",
              "      <td>CA</td>\n",
              "      <td>92108</td>\n",
              "      <td>US</td>\n",
              "      <td>US/Pacific</td>\n",
              "      <td>KMYF</td>\n",
              "      <td>2019-08-23 18:53:00</td>\n",
              "      <td>70.0</td>\n",
              "      <td>70.0</td>\n",
              "      <td>73.0</td>\n",
              "      <td>29.39</td>\n",
              "      <td>10.0</td>\n",
              "      <td>SW</td>\n",
              "      <td>6.0</td>\n",
              "      <td>0.00</td>\n",
              "      <td>Fair</td>\n",
              "      <td>False</td>\n",
              "      <td>False</td>\n",
              "      <td>False</td>\n",
              "      <td>False</td>\n",
              "      <td>False</td>\n",
              "      <td>False</td>\n",
              "      <td>False</td>\n",
              "      <td>False</td>\n",
              "      <td>False</td>\n",
              "      <td>False</td>\n",
              "      <td>False</td>\n",
              "      <td>False</td>\n",
              "      <td>False</td>\n",
              "      <td>Day</td>\n",
              "      <td>Day</td>\n",
              "      <td>Day</td>\n",
              "      <td>Day</td>\n",
              "      <td>Fri</td>\n",
              "      <td>19</td>\n",
              "      <td>8</td>\n",
              "      <td>235</td>\n",
              "      <td>1151.0</td>\n",
              "    </tr>\n",
              "    <tr>\n",
              "      <th>3513614</th>\n",
              "      <td>A-3513778</td>\n",
              "      <td>Bing</td>\n",
              "      <td>NaN</td>\n",
              "      <td>2</td>\n",
              "      <td>2019-08-23 19:00:21</td>\n",
              "      <td>2019-08-23 19:28:49</td>\n",
              "      <td>33.775450</td>\n",
              "      <td>-117.847790</td>\n",
              "      <td>33.77740</td>\n",
              "      <td>-117.85727</td>\n",
              "      <td>0.561</td>\n",
              "      <td>At Glassell St/Grand Ave - Accident. in the ri...</td>\n",
              "      <td>NaN</td>\n",
              "      <td>Garden Grove Fwy</td>\n",
              "      <td>R</td>\n",
              "      <td>Orange</td>\n",
              "      <td>Orange</td>\n",
              "      <td>CA</td>\n",
              "      <td>92866</td>\n",
              "      <td>US</td>\n",
              "      <td>US/Pacific</td>\n",
              "      <td>KSNA</td>\n",
              "      <td>2019-08-23 18:53:00</td>\n",
              "      <td>73.0</td>\n",
              "      <td>73.0</td>\n",
              "      <td>64.0</td>\n",
              "      <td>29.74</td>\n",
              "      <td>10.0</td>\n",
              "      <td>SSW</td>\n",
              "      <td>10.0</td>\n",
              "      <td>0.00</td>\n",
              "      <td>Partly Cloudy</td>\n",
              "      <td>False</td>\n",
              "      <td>False</td>\n",
              "      <td>False</td>\n",
              "      <td>False</td>\n",
              "      <td>True</td>\n",
              "      <td>False</td>\n",
              "      <td>False</td>\n",
              "      <td>False</td>\n",
              "      <td>False</td>\n",
              "      <td>False</td>\n",
              "      <td>False</td>\n",
              "      <td>False</td>\n",
              "      <td>False</td>\n",
              "      <td>Day</td>\n",
              "      <td>Day</td>\n",
              "      <td>Day</td>\n",
              "      <td>Day</td>\n",
              "      <td>Fri</td>\n",
              "      <td>19</td>\n",
              "      <td>8</td>\n",
              "      <td>235</td>\n",
              "      <td>1140.0</td>\n",
              "    </tr>\n",
              "    <tr>\n",
              "      <th>3513615</th>\n",
              "      <td>A-3513779</td>\n",
              "      <td>Bing</td>\n",
              "      <td>NaN</td>\n",
              "      <td>2</td>\n",
              "      <td>2019-08-23 19:00:21</td>\n",
              "      <td>2019-08-23 19:29:42</td>\n",
              "      <td>33.992460</td>\n",
              "      <td>-118.403020</td>\n",
              "      <td>33.98311</td>\n",
              "      <td>-118.39565</td>\n",
              "      <td>0.772</td>\n",
              "      <td>At CA-90/Marina Fwy/Jefferson Blvd - Accident.</td>\n",
              "      <td>NaN</td>\n",
              "      <td>San Diego Fwy S</td>\n",
              "      <td>R</td>\n",
              "      <td>Culver City</td>\n",
              "      <td>Los Angeles</td>\n",
              "      <td>CA</td>\n",
              "      <td>90230</td>\n",
              "      <td>US</td>\n",
              "      <td>US/Pacific</td>\n",
              "      <td>KSMO</td>\n",
              "      <td>2019-08-23 18:51:00</td>\n",
              "      <td>71.0</td>\n",
              "      <td>71.0</td>\n",
              "      <td>81.0</td>\n",
              "      <td>29.62</td>\n",
              "      <td>10.0</td>\n",
              "      <td>SW</td>\n",
              "      <td>8.0</td>\n",
              "      <td>0.00</td>\n",
              "      <td>Fair</td>\n",
              "      <td>False</td>\n",
              "      <td>False</td>\n",
              "      <td>False</td>\n",
              "      <td>False</td>\n",
              "      <td>False</td>\n",
              "      <td>False</td>\n",
              "      <td>False</td>\n",
              "      <td>False</td>\n",
              "      <td>False</td>\n",
              "      <td>False</td>\n",
              "      <td>False</td>\n",
              "      <td>False</td>\n",
              "      <td>False</td>\n",
              "      <td>Day</td>\n",
              "      <td>Day</td>\n",
              "      <td>Day</td>\n",
              "      <td>Day</td>\n",
              "      <td>Fri</td>\n",
              "      <td>19</td>\n",
              "      <td>8</td>\n",
              "      <td>235</td>\n",
              "      <td>1140.0</td>\n",
              "    </tr>\n",
              "    <tr>\n",
              "      <th>3513616</th>\n",
              "      <td>A-3513780</td>\n",
              "      <td>Bing</td>\n",
              "      <td>NaN</td>\n",
              "      <td>2</td>\n",
              "      <td>2019-08-23 18:52:06</td>\n",
              "      <td>2019-08-23 19:21:31</td>\n",
              "      <td>34.133930</td>\n",
              "      <td>-117.230920</td>\n",
              "      <td>34.13736</td>\n",
              "      <td>-117.23934</td>\n",
              "      <td>0.537</td>\n",
              "      <td>At Highland Ave/Arden Ave - Accident.</td>\n",
              "      <td>NaN</td>\n",
              "      <td>CA-210 W</td>\n",
              "      <td>R</td>\n",
              "      <td>Highland</td>\n",
              "      <td>San Bernardino</td>\n",
              "      <td>CA</td>\n",
              "      <td>92346</td>\n",
              "      <td>US</td>\n",
              "      <td>US/Pacific</td>\n",
              "      <td>KSBD</td>\n",
              "      <td>2019-08-23 20:50:00</td>\n",
              "      <td>79.0</td>\n",
              "      <td>79.0</td>\n",
              "      <td>47.0</td>\n",
              "      <td>28.63</td>\n",
              "      <td>7.0</td>\n",
              "      <td>SW</td>\n",
              "      <td>7.0</td>\n",
              "      <td>0.00</td>\n",
              "      <td>Fair</td>\n",
              "      <td>False</td>\n",
              "      <td>False</td>\n",
              "      <td>False</td>\n",
              "      <td>False</td>\n",
              "      <td>False</td>\n",
              "      <td>False</td>\n",
              "      <td>False</td>\n",
              "      <td>False</td>\n",
              "      <td>False</td>\n",
              "      <td>False</td>\n",
              "      <td>False</td>\n",
              "      <td>False</td>\n",
              "      <td>False</td>\n",
              "      <td>Day</td>\n",
              "      <td>Day</td>\n",
              "      <td>Day</td>\n",
              "      <td>Day</td>\n",
              "      <td>Fri</td>\n",
              "      <td>18</td>\n",
              "      <td>8</td>\n",
              "      <td>235</td>\n",
              "      <td>1132.0</td>\n",
              "    </tr>\n",
              "  </tbody>\n",
              "</table>\n",
              "<p>3513617 rows × 54 columns</p>\n",
              "</div>"
            ],
            "text/plain": [
              "                ID    Source    TMC  Severity  ... HHH MON  Current_Day     Min\n",
              "0              A-1  MapQuest  201.0         3  ...   5   2           39   346.0\n",
              "1              A-2  MapQuest  201.0         2  ...   6   2           39   367.0\n",
              "2              A-3  MapQuest  201.0         2  ...   6   2           39   409.0\n",
              "3              A-4  MapQuest  201.0         3  ...   7   2           39   443.0\n",
              "4              A-5  MapQuest  201.0         2  ...   7   2           39   459.0\n",
              "...            ...       ...    ...       ...  ...  ..  ..          ...     ...\n",
              "3513612  A-3513776      Bing    NaN         2  ...  18   8          235  1083.0\n",
              "3513613  A-3513777      Bing    NaN         2  ...  19   8          235  1151.0\n",
              "3513614  A-3513778      Bing    NaN         2  ...  19   8          235  1140.0\n",
              "3513615  A-3513779      Bing    NaN         2  ...  19   8          235  1140.0\n",
              "3513616  A-3513780      Bing    NaN         2  ...  18   8          235  1132.0\n",
              "\n",
              "[3513617 rows x 54 columns]"
            ]
          },
          "metadata": {
            "tags": []
          },
          "execution_count": 14
        }
      ]
    },
    {
      "cell_type": "markdown",
      "metadata": {
        "id": "H9MoCwNOSrAQ",
        "colab_type": "text"
      },
      "source": [
        "First, we looked at the summation of missing values in our\tdataset."
      ]
    },
    {
      "cell_type": "code",
      "metadata": {
        "id": "Bambdhn2RR09",
        "colab_type": "code",
        "colab": {
          "base_uri": "https://localhost:8080/",
          "height": 952
        },
        "outputId": "8b3c3067-c2a7-4f8c-ab37-1a1817dc605d"
      },
      "source": [
        "DataGD.isnull().sum(axis = 0)"
      ],
      "execution_count": null,
      "outputs": [
        {
          "output_type": "execute_result",
          "data": {
            "text/plain": [
              "ID                             0\n",
              "Source                         0\n",
              "TMC                      1034799\n",
              "Severity                       0\n",
              "Start_Time                     0\n",
              "End_Time                       0\n",
              "Start_Lat                      0\n",
              "Start_Lng                      0\n",
              "End_Lat                  2478818\n",
              "End_Lng                  2478818\n",
              "Distance(mi)                   0\n",
              "Description                    1\n",
              "Number                   2262864\n",
              "Street                         0\n",
              "Side                           0\n",
              "City                         112\n",
              "County                         0\n",
              "State                          0\n",
              "Zipcode                     1069\n",
              "Country                        0\n",
              "Timezone                    3880\n",
              "Airport_Code                6758\n",
              "Weather_Timestamp          43323\n",
              "Temperature(F)             65732\n",
              "Wind_Chill(F)            1868249\n",
              "Humidity(%)                69687\n",
              "Pressure(in)               55882\n",
              "Visibility(mi)             75856\n",
              "Wind_Direction             58874\n",
              "Wind_Speed(mph)           454609\n",
              "Precipitation(in)        2025874\n",
              "Weather_Condition          76138\n",
              "Amenity                        0\n",
              "Bump                           0\n",
              "Crossing                       0\n",
              "Give_Way                       0\n",
              "Junction                       0\n",
              "No_Exit                        0\n",
              "Railway                        0\n",
              "Roundabout                     0\n",
              "Station                        0\n",
              "Stop                           0\n",
              "Traffic_Calming                0\n",
              "Traffic_Signal                 0\n",
              "Turning_Loop                   0\n",
              "Sunrise_Sunset               115\n",
              "Civil_Twilight               115\n",
              "Nautical_Twilight            115\n",
              "Astronomical_Twilight        115\n",
              "WD                             0\n",
              "HHH                            0\n",
              "MON                            0\n",
              "Current_Day                    0\n",
              "Min                            0\n",
              "dtype: int64"
            ]
          },
          "metadata": {
            "tags": []
          },
          "execution_count": 15
        }
      ]
    },
    {
      "cell_type": "markdown",
      "metadata": {
        "id": "WJuTQqosSud3",
        "colab_type": "text"
      },
      "source": [
        "Few of the columns like 'Sunrise_Sunset','Civil_Twilight','Nautical_Twilight','Astronomical_Twilight',’City’,’Zipcode’,’Airportcode’ contain a small number of missing values. We simply dropped these rows because dropping does not put a huge impact on 2.25 million records. "
      ]
    },
    {
      "cell_type": "code",
      "metadata": {
        "id": "TB7gTtcYzHJ8",
        "colab_type": "code",
        "colab": {}
      },
      "source": [
        "DataGD=DataGD.dropna(subset=['Wind_Direction','Weather_Condition'])\n",
        "DataGD=DataGD.dropna(subset=['Sunrise_Sunset','Civil_Twilight','Nautical_Twilight','Astronomical_Twilight','City','Zipcode','Airport_Code'])"
      ],
      "execution_count": null,
      "outputs": []
    },
    {
      "cell_type": "markdown",
      "metadata": {
        "id": "kc6SiltkSyaO",
        "colab_type": "text"
      },
      "source": [
        "We then looked at “Number”, “Precipitation(in)” and “Windchill(F)” features contain almost 70% missing values. We simply dropped these features because these features do not have any high impact on the target column. \n",
        "\n",
        "According to the dataset description TMC, “End lat”, “End lag” and “Distance(mi)” all values are calculated after the accident occurred. That’s why using those features for prediction of accidents is not very helpful. Thus we also got rid of these columns by dropping them.\n",
        "\n",
        "Almost all features contain >=2 unique values but “country” is the same for all records because we perform prediction analysis on the US. That is why using this column for prediction is useless. We simply dropped this column, too, from whole records.  One more column “Turning Loop” is the same for all records that indicate the presence of a turning loop. That’s why we also deleted this feature from our dataset. Feature “Id” is just the representation of each record, having no relationship with prediction. So we simply ignored this feature during prediction. \n",
        "\n",
        "Three columns that feed time as a string data type need to convert these string formats to data-time formats. After conversion of time, we observed that the difference between “weather time” and “start time” is zero. It means these two columns are almost similar. So we took only one of them. "
      ]
    },
    {
      "cell_type": "code",
      "metadata": {
        "id": "G0opIc_rRRUu",
        "colab_type": "code",
        "colab": {}
      },
      "source": [
        "DataGD=DataGD.drop(['Country','Weather_Timestamp','ID','Number','Description','Turning_Loop','Wind_Chill(F)','Precipitation(in)','TMC','End_Lng','End_Lat','Distance(mi)'],axis=1)"
      ],
      "execution_count": null,
      "outputs": []
    },
    {
      "cell_type": "markdown",
      "metadata": {
        "id": "dHjDDrSkT1Fu",
        "colab_type": "text"
      },
      "source": [
        "As we know that, our dataset has been collected from two sources. One is MapQuest and the second is Bing. MapQuest sources give all accident data which belong to severity 3 and severity 2. There is no record that belongs to severity 1 and severity 4. On the other side Bing records belong to all four types of severities. As we observed that there is no similar proportion of MapQuest and Bing data collection. These differences show that both datasets are related to accidents, but they consider different definitions of severity. If we analyze source feature relation with different columns, we observe that MapQuest is given more accurate information rather than Bing. So, simply dropped rows that contained the source as Bing. "
      ]
    },
    {
      "cell_type": "code",
      "metadata": {
        "id": "c7u8QW9MfV15",
        "colab_type": "code",
        "colab": {}
      },
      "source": [
        "DataGD=DataGD.loc[DataGD['Source']==\"MapQuest\"]\n",
        "DataGD=DataGD.drop(['Source'], axis=1)"
      ],
      "execution_count": null,
      "outputs": []
    },
    {
      "cell_type": "markdown",
      "metadata": {
        "id": "2XX5SjuXfbVt",
        "colab_type": "text"
      },
      "source": [
        "As some columns with numeric data type contained a lot of missing values. Firstly, we grouped those columns according to “Airport code” or “month”. Secondly, took mean of each group. At the end, missing values were replaced by the mean value of each group. But after this pre-processing, still we had some null values in these columns. We simply dropped Null rows but keeping in mind that dropping rows decrease the size of our dataset but not that much."
      ]
    },
    {
      "cell_type": "code",
      "metadata": {
        "id": "xgPvBLbsfcTc",
        "colab_type": "code",
        "colab": {}
      },
      "source": [
        "DataGD['Temperature(F)']=DataGD.groupby(['Airport_Code','MON'])['Temperature(F)'].apply(lambda x: x.fillna(x.mean()))\n",
        "DataGD['Humidity(%)']=DataGD.groupby(['Airport_Code','MON'])['Humidity(%)'].apply(lambda x: x.fillna(x.mean()))\n",
        "DataGD['Pressure(in)']=DataGD.groupby(['Airport_Code','MON'])['Pressure(in)'].apply(lambda x: x.fillna(x.mean()))\n",
        "DataGD['Visibility(mi)']=DataGD.groupby(['Airport_Code','MON'])['Visibility(mi)'].apply(lambda x: x.fillna(x.mean()))\n",
        "DataGD['Wind_Speed(mph)']=DataGD.groupby(['Airport_Code','MON'])['Wind_Speed(mph)'].apply(lambda x: x.fillna(x.mean()))\n",
        "DataGD=DataGD.dropna(subset=['Temperature(F)','Humidity(%)','Pressure(in)','Visibility(mi)','Wind_Speed(mph)'])"
      ],
      "execution_count": null,
      "outputs": []
    },
    {
      "cell_type": "markdown",
      "metadata": {
        "id": "4hKFh2y0kZxr",
        "colab_type": "text"
      },
      "source": [
        "Moving towards categorical features, used Label Encoder and get_dummies  technique for preprocessing Amenity, Bump, Crossing, Giveaway, Junction, No Exit, Railway, Roundabout, Station, Stop, Traffic Calming, Traffic Signal, Side, State, Sunrise Sunset, Civil Twilight, Nautical Twilight, Astronomical Twilight features.\n",
        "Divided the dataset into two parts, the training part and the test part. Severity being considered as a testing variable and all other remaining variables have been considered as Training data. After separating the data into two parts, applied StandardScaler machine learning technique that standardized the features by subtracting the estimation mean and scaled it to unit variance. \n"
      ]
    },
    {
      "cell_type": "code",
      "metadata": {
        "id": "TF4AJUFwk1oQ",
        "colab_type": "code",
        "colab": {}
      },
      "source": [
        "label_encoder = preprocessing.LabelEncoder()\n",
        "DataGD['Sunrise_Sunset'] = label_encoder.fit_transform(DataGD['Sunrise_Sunset'])\n",
        "DataGD['Civil_Twilight'] = label_encoder.fit_transform(DataGD['Civil_Twilight'])\n",
        "DataGD['Nautical_Twilight'] = label_encoder.fit_transform(DataGD['Nautical_Twilight'])\n",
        "DataGD['Give_Way'] = label_encoder.fit_transform(DataGD['Give_Way'])\n",
        "DataGD['Junction'] = label_encoder.fit_transform(DataGD['Junction'])\n",
        "DataGD['Amenity'] = label_encoder.fit_transform(DataGD['Amenity'])\n",
        "DataGD['Bump'] = label_encoder.fit_transform(DataGD['Bump'])\n",
        "DataGD['Crossing'] = label_encoder.fit_transform(DataGD['Crossing'])\n",
        "DataGD['Roundabout'] = label_encoder.fit_transform(DataGD['Roundabout'])\n",
        "DataGD['Station'] = label_encoder.fit_transform(DataGD['Station'])\n",
        "DataGD['Stop'] = label_encoder.fit_transform(DataGD['Stop'])\n",
        "DataGD['Traffic_Calming'] = label_encoder.fit_transform(DataGD['Traffic_Calming'])\n",
        "DataGD['Traffic_Signal'] = label_encoder.fit_transform(DataGD['Traffic_Signal'])\n",
        "DataGD['Side'] = label_encoder.fit_transform(DataGD['Side'])\n",
        "DataGD['State'] = label_encoder.fit_transform(DataGD['State'])\n",
        "DataGD['No_Exit'] = label_encoder.fit_transform(DataGD['No_Exit'])\n",
        "DataGD['Railway'] = label_encoder.fit_transform(DataGD['Railway'])\n",
        "DataGD['Astronomical_Twilight'] = label_encoder.fit_transform(DataGD['Astronomical_Twilight'])\n",
        "DataGD=DataGD.drop(['Street', 'City', 'County', 'Zipcode','Wind_Direction','Weather_Condition','Airport_Code','Start_Time','End_Time'],axis=1)\n",
        "cat=['Timezone', 'WD', 'MON', 'HHH']\n",
        "DataGD[cat]=DataGD[cat].astype('category')\n",
        "DataGD=pd.get_dummies(DataGD, columns=cat, drop_first=True)"
      ],
      "execution_count": null,
      "outputs": []
    },
    {
      "cell_type": "markdown",
      "metadata": {
        "id": "f73bmBAHlB_8",
        "colab_type": "text"
      },
      "source": [
        "Now check Null values of dataset"
      ]
    },
    {
      "cell_type": "code",
      "metadata": {
        "id": "Yso2_L2mffmS",
        "colab_type": "code",
        "colab": {
          "base_uri": "https://localhost:8080/",
          "height": 221
        },
        "outputId": "63eb8edf-bcbd-4f12-8327-2c59a77aa6c3"
      },
      "source": [
        "DataGD.isnull().sum(axis = 0)"
      ],
      "execution_count": null,
      "outputs": [
        {
          "output_type": "execute_result",
          "data": {
            "text/plain": [
              "Severity     0\n",
              "Start_Lat    0\n",
              "Start_Lng    0\n",
              "Side         0\n",
              "State        0\n",
              "            ..\n",
              "HHH_19       0\n",
              "HHH_20       0\n",
              "HHH_21       0\n",
              "HHH_22       0\n",
              "HHH_23       0\n",
              "Length: 71, dtype: int64"
            ]
          },
          "metadata": {
            "tags": []
          },
          "execution_count": 21
        }
      ]
    },
    {
      "cell_type": "code",
      "metadata": {
        "id": "oiAKFWT-nveI",
        "colab_type": "code",
        "colab": {
          "base_uri": "https://localhost:8080/",
          "height": 439
        },
        "outputId": "0d8fac98-6f73-4e29-ee12-4191364179ac"
      },
      "source": [
        "DataGD"
      ],
      "execution_count": null,
      "outputs": [
        {
          "output_type": "execute_result",
          "data": {
            "text/html": [
              "<div>\n",
              "<style scoped>\n",
              "    .dataframe tbody tr th:only-of-type {\n",
              "        vertical-align: middle;\n",
              "    }\n",
              "\n",
              "    .dataframe tbody tr th {\n",
              "        vertical-align: top;\n",
              "    }\n",
              "\n",
              "    .dataframe thead th {\n",
              "        text-align: right;\n",
              "    }\n",
              "</style>\n",
              "<table border=\"1\" class=\"dataframe\">\n",
              "  <thead>\n",
              "    <tr style=\"text-align: right;\">\n",
              "      <th></th>\n",
              "      <th>Severity</th>\n",
              "      <th>Start_Lat</th>\n",
              "      <th>Start_Lng</th>\n",
              "      <th>Side</th>\n",
              "      <th>State</th>\n",
              "      <th>Temperature(F)</th>\n",
              "      <th>Humidity(%)</th>\n",
              "      <th>Pressure(in)</th>\n",
              "      <th>Visibility(mi)</th>\n",
              "      <th>Wind_Speed(mph)</th>\n",
              "      <th>Amenity</th>\n",
              "      <th>Bump</th>\n",
              "      <th>Crossing</th>\n",
              "      <th>Give_Way</th>\n",
              "      <th>Junction</th>\n",
              "      <th>No_Exit</th>\n",
              "      <th>Railway</th>\n",
              "      <th>Roundabout</th>\n",
              "      <th>Station</th>\n",
              "      <th>Stop</th>\n",
              "      <th>Traffic_Calming</th>\n",
              "      <th>Traffic_Signal</th>\n",
              "      <th>Sunrise_Sunset</th>\n",
              "      <th>Civil_Twilight</th>\n",
              "      <th>Nautical_Twilight</th>\n",
              "      <th>Astronomical_Twilight</th>\n",
              "      <th>Current_Day</th>\n",
              "      <th>Min</th>\n",
              "      <th>Timezone_US/Eastern</th>\n",
              "      <th>Timezone_US/Mountain</th>\n",
              "      <th>Timezone_US/Pacific</th>\n",
              "      <th>WD_Mon</th>\n",
              "      <th>WD_Sat</th>\n",
              "      <th>WD_Sun</th>\n",
              "      <th>WD_Thu</th>\n",
              "      <th>WD_Tue</th>\n",
              "      <th>WD_Wed</th>\n",
              "      <th>MON_2</th>\n",
              "      <th>MON_3</th>\n",
              "      <th>MON_4</th>\n",
              "      <th>MON_5</th>\n",
              "      <th>MON_6</th>\n",
              "      <th>MON_7</th>\n",
              "      <th>MON_8</th>\n",
              "      <th>MON_9</th>\n",
              "      <th>MON_10</th>\n",
              "      <th>MON_11</th>\n",
              "      <th>MON_12</th>\n",
              "      <th>HHH_1</th>\n",
              "      <th>HHH_2</th>\n",
              "      <th>HHH_3</th>\n",
              "      <th>HHH_4</th>\n",
              "      <th>HHH_5</th>\n",
              "      <th>HHH_6</th>\n",
              "      <th>HHH_7</th>\n",
              "      <th>HHH_8</th>\n",
              "      <th>HHH_9</th>\n",
              "      <th>HHH_10</th>\n",
              "      <th>HHH_11</th>\n",
              "      <th>HHH_12</th>\n",
              "      <th>HHH_13</th>\n",
              "      <th>HHH_14</th>\n",
              "      <th>HHH_15</th>\n",
              "      <th>HHH_16</th>\n",
              "      <th>HHH_17</th>\n",
              "      <th>HHH_18</th>\n",
              "      <th>HHH_19</th>\n",
              "      <th>HHH_20</th>\n",
              "      <th>HHH_21</th>\n",
              "      <th>HHH_22</th>\n",
              "      <th>HHH_23</th>\n",
              "    </tr>\n",
              "  </thead>\n",
              "  <tbody>\n",
              "    <tr>\n",
              "      <th>0</th>\n",
              "      <td>3</td>\n",
              "      <td>39.865147</td>\n",
              "      <td>-84.058723</td>\n",
              "      <td>2</td>\n",
              "      <td>33</td>\n",
              "      <td>36.9</td>\n",
              "      <td>91.0</td>\n",
              "      <td>29.68</td>\n",
              "      <td>10.0</td>\n",
              "      <td>9.690217</td>\n",
              "      <td>0</td>\n",
              "      <td>0</td>\n",
              "      <td>0</td>\n",
              "      <td>0</td>\n",
              "      <td>0</td>\n",
              "      <td>0</td>\n",
              "      <td>0</td>\n",
              "      <td>0</td>\n",
              "      <td>0</td>\n",
              "      <td>0</td>\n",
              "      <td>0</td>\n",
              "      <td>0</td>\n",
              "      <td>1</td>\n",
              "      <td>1</td>\n",
              "      <td>1</td>\n",
              "      <td>1</td>\n",
              "      <td>39</td>\n",
              "      <td>346.0</td>\n",
              "      <td>1</td>\n",
              "      <td>0</td>\n",
              "      <td>0</td>\n",
              "      <td>1</td>\n",
              "      <td>0</td>\n",
              "      <td>0</td>\n",
              "      <td>0</td>\n",
              "      <td>0</td>\n",
              "      <td>0</td>\n",
              "      <td>1</td>\n",
              "      <td>0</td>\n",
              "      <td>0</td>\n",
              "      <td>0</td>\n",
              "      <td>0</td>\n",
              "      <td>0</td>\n",
              "      <td>0</td>\n",
              "      <td>0</td>\n",
              "      <td>0</td>\n",
              "      <td>0</td>\n",
              "      <td>0</td>\n",
              "      <td>0</td>\n",
              "      <td>0</td>\n",
              "      <td>0</td>\n",
              "      <td>0</td>\n",
              "      <td>1</td>\n",
              "      <td>0</td>\n",
              "      <td>0</td>\n",
              "      <td>0</td>\n",
              "      <td>0</td>\n",
              "      <td>0</td>\n",
              "      <td>0</td>\n",
              "      <td>0</td>\n",
              "      <td>0</td>\n",
              "      <td>0</td>\n",
              "      <td>0</td>\n",
              "      <td>0</td>\n",
              "      <td>0</td>\n",
              "      <td>0</td>\n",
              "      <td>0</td>\n",
              "      <td>0</td>\n",
              "      <td>0</td>\n",
              "      <td>0</td>\n",
              "      <td>0</td>\n",
              "    </tr>\n",
              "    <tr>\n",
              "      <th>1</th>\n",
              "      <td>2</td>\n",
              "      <td>39.928059</td>\n",
              "      <td>-82.831184</td>\n",
              "      <td>1</td>\n",
              "      <td>33</td>\n",
              "      <td>37.9</td>\n",
              "      <td>100.0</td>\n",
              "      <td>29.65</td>\n",
              "      <td>10.0</td>\n",
              "      <td>9.709274</td>\n",
              "      <td>0</td>\n",
              "      <td>0</td>\n",
              "      <td>0</td>\n",
              "      <td>0</td>\n",
              "      <td>0</td>\n",
              "      <td>0</td>\n",
              "      <td>0</td>\n",
              "      <td>0</td>\n",
              "      <td>0</td>\n",
              "      <td>0</td>\n",
              "      <td>0</td>\n",
              "      <td>0</td>\n",
              "      <td>1</td>\n",
              "      <td>1</td>\n",
              "      <td>1</td>\n",
              "      <td>0</td>\n",
              "      <td>39</td>\n",
              "      <td>367.0</td>\n",
              "      <td>1</td>\n",
              "      <td>0</td>\n",
              "      <td>0</td>\n",
              "      <td>1</td>\n",
              "      <td>0</td>\n",
              "      <td>0</td>\n",
              "      <td>0</td>\n",
              "      <td>0</td>\n",
              "      <td>0</td>\n",
              "      <td>1</td>\n",
              "      <td>0</td>\n",
              "      <td>0</td>\n",
              "      <td>0</td>\n",
              "      <td>0</td>\n",
              "      <td>0</td>\n",
              "      <td>0</td>\n",
              "      <td>0</td>\n",
              "      <td>0</td>\n",
              "      <td>0</td>\n",
              "      <td>0</td>\n",
              "      <td>0</td>\n",
              "      <td>0</td>\n",
              "      <td>0</td>\n",
              "      <td>0</td>\n",
              "      <td>0</td>\n",
              "      <td>1</td>\n",
              "      <td>0</td>\n",
              "      <td>0</td>\n",
              "      <td>0</td>\n",
              "      <td>0</td>\n",
              "      <td>0</td>\n",
              "      <td>0</td>\n",
              "      <td>0</td>\n",
              "      <td>0</td>\n",
              "      <td>0</td>\n",
              "      <td>0</td>\n",
              "      <td>0</td>\n",
              "      <td>0</td>\n",
              "      <td>0</td>\n",
              "      <td>0</td>\n",
              "      <td>0</td>\n",
              "      <td>0</td>\n",
              "      <td>0</td>\n",
              "    </tr>\n",
              "    <tr>\n",
              "      <th>2</th>\n",
              "      <td>2</td>\n",
              "      <td>39.063148</td>\n",
              "      <td>-84.032608</td>\n",
              "      <td>2</td>\n",
              "      <td>33</td>\n",
              "      <td>36.0</td>\n",
              "      <td>100.0</td>\n",
              "      <td>29.67</td>\n",
              "      <td>10.0</td>\n",
              "      <td>3.500000</td>\n",
              "      <td>0</td>\n",
              "      <td>0</td>\n",
              "      <td>0</td>\n",
              "      <td>0</td>\n",
              "      <td>0</td>\n",
              "      <td>0</td>\n",
              "      <td>0</td>\n",
              "      <td>0</td>\n",
              "      <td>0</td>\n",
              "      <td>0</td>\n",
              "      <td>0</td>\n",
              "      <td>1</td>\n",
              "      <td>1</td>\n",
              "      <td>1</td>\n",
              "      <td>0</td>\n",
              "      <td>0</td>\n",
              "      <td>39</td>\n",
              "      <td>409.0</td>\n",
              "      <td>1</td>\n",
              "      <td>0</td>\n",
              "      <td>0</td>\n",
              "      <td>1</td>\n",
              "      <td>0</td>\n",
              "      <td>0</td>\n",
              "      <td>0</td>\n",
              "      <td>0</td>\n",
              "      <td>0</td>\n",
              "      <td>1</td>\n",
              "      <td>0</td>\n",
              "      <td>0</td>\n",
              "      <td>0</td>\n",
              "      <td>0</td>\n",
              "      <td>0</td>\n",
              "      <td>0</td>\n",
              "      <td>0</td>\n",
              "      <td>0</td>\n",
              "      <td>0</td>\n",
              "      <td>0</td>\n",
              "      <td>0</td>\n",
              "      <td>0</td>\n",
              "      <td>0</td>\n",
              "      <td>0</td>\n",
              "      <td>0</td>\n",
              "      <td>1</td>\n",
              "      <td>0</td>\n",
              "      <td>0</td>\n",
              "      <td>0</td>\n",
              "      <td>0</td>\n",
              "      <td>0</td>\n",
              "      <td>0</td>\n",
              "      <td>0</td>\n",
              "      <td>0</td>\n",
              "      <td>0</td>\n",
              "      <td>0</td>\n",
              "      <td>0</td>\n",
              "      <td>0</td>\n",
              "      <td>0</td>\n",
              "      <td>0</td>\n",
              "      <td>0</td>\n",
              "      <td>0</td>\n",
              "      <td>0</td>\n",
              "    </tr>\n",
              "    <tr>\n",
              "      <th>3</th>\n",
              "      <td>3</td>\n",
              "      <td>39.747753</td>\n",
              "      <td>-84.205582</td>\n",
              "      <td>2</td>\n",
              "      <td>33</td>\n",
              "      <td>35.1</td>\n",
              "      <td>96.0</td>\n",
              "      <td>29.64</td>\n",
              "      <td>9.0</td>\n",
              "      <td>4.600000</td>\n",
              "      <td>0</td>\n",
              "      <td>0</td>\n",
              "      <td>0</td>\n",
              "      <td>0</td>\n",
              "      <td>0</td>\n",
              "      <td>0</td>\n",
              "      <td>0</td>\n",
              "      <td>0</td>\n",
              "      <td>0</td>\n",
              "      <td>0</td>\n",
              "      <td>0</td>\n",
              "      <td>0</td>\n",
              "      <td>1</td>\n",
              "      <td>0</td>\n",
              "      <td>0</td>\n",
              "      <td>0</td>\n",
              "      <td>39</td>\n",
              "      <td>443.0</td>\n",
              "      <td>1</td>\n",
              "      <td>0</td>\n",
              "      <td>0</td>\n",
              "      <td>1</td>\n",
              "      <td>0</td>\n",
              "      <td>0</td>\n",
              "      <td>0</td>\n",
              "      <td>0</td>\n",
              "      <td>0</td>\n",
              "      <td>1</td>\n",
              "      <td>0</td>\n",
              "      <td>0</td>\n",
              "      <td>0</td>\n",
              "      <td>0</td>\n",
              "      <td>0</td>\n",
              "      <td>0</td>\n",
              "      <td>0</td>\n",
              "      <td>0</td>\n",
              "      <td>0</td>\n",
              "      <td>0</td>\n",
              "      <td>0</td>\n",
              "      <td>0</td>\n",
              "      <td>0</td>\n",
              "      <td>0</td>\n",
              "      <td>0</td>\n",
              "      <td>0</td>\n",
              "      <td>1</td>\n",
              "      <td>0</td>\n",
              "      <td>0</td>\n",
              "      <td>0</td>\n",
              "      <td>0</td>\n",
              "      <td>0</td>\n",
              "      <td>0</td>\n",
              "      <td>0</td>\n",
              "      <td>0</td>\n",
              "      <td>0</td>\n",
              "      <td>0</td>\n",
              "      <td>0</td>\n",
              "      <td>0</td>\n",
              "      <td>0</td>\n",
              "      <td>0</td>\n",
              "      <td>0</td>\n",
              "      <td>0</td>\n",
              "    </tr>\n",
              "    <tr>\n",
              "      <th>4</th>\n",
              "      <td>2</td>\n",
              "      <td>39.627781</td>\n",
              "      <td>-84.188354</td>\n",
              "      <td>2</td>\n",
              "      <td>33</td>\n",
              "      <td>36.0</td>\n",
              "      <td>89.0</td>\n",
              "      <td>29.65</td>\n",
              "      <td>6.0</td>\n",
              "      <td>3.500000</td>\n",
              "      <td>0</td>\n",
              "      <td>0</td>\n",
              "      <td>0</td>\n",
              "      <td>0</td>\n",
              "      <td>0</td>\n",
              "      <td>0</td>\n",
              "      <td>0</td>\n",
              "      <td>0</td>\n",
              "      <td>0</td>\n",
              "      <td>0</td>\n",
              "      <td>0</td>\n",
              "      <td>1</td>\n",
              "      <td>0</td>\n",
              "      <td>0</td>\n",
              "      <td>0</td>\n",
              "      <td>0</td>\n",
              "      <td>39</td>\n",
              "      <td>459.0</td>\n",
              "      <td>1</td>\n",
              "      <td>0</td>\n",
              "      <td>0</td>\n",
              "      <td>1</td>\n",
              "      <td>0</td>\n",
              "      <td>0</td>\n",
              "      <td>0</td>\n",
              "      <td>0</td>\n",
              "      <td>0</td>\n",
              "      <td>1</td>\n",
              "      <td>0</td>\n",
              "      <td>0</td>\n",
              "      <td>0</td>\n",
              "      <td>0</td>\n",
              "      <td>0</td>\n",
              "      <td>0</td>\n",
              "      <td>0</td>\n",
              "      <td>0</td>\n",
              "      <td>0</td>\n",
              "      <td>0</td>\n",
              "      <td>0</td>\n",
              "      <td>0</td>\n",
              "      <td>0</td>\n",
              "      <td>0</td>\n",
              "      <td>0</td>\n",
              "      <td>0</td>\n",
              "      <td>1</td>\n",
              "      <td>0</td>\n",
              "      <td>0</td>\n",
              "      <td>0</td>\n",
              "      <td>0</td>\n",
              "      <td>0</td>\n",
              "      <td>0</td>\n",
              "      <td>0</td>\n",
              "      <td>0</td>\n",
              "      <td>0</td>\n",
              "      <td>0</td>\n",
              "      <td>0</td>\n",
              "      <td>0</td>\n",
              "      <td>0</td>\n",
              "      <td>0</td>\n",
              "      <td>0</td>\n",
              "      <td>0</td>\n",
              "    </tr>\n",
              "    <tr>\n",
              "      <th>...</th>\n",
              "      <td>...</td>\n",
              "      <td>...</td>\n",
              "      <td>...</td>\n",
              "      <td>...</td>\n",
              "      <td>...</td>\n",
              "      <td>...</td>\n",
              "      <td>...</td>\n",
              "      <td>...</td>\n",
              "      <td>...</td>\n",
              "      <td>...</td>\n",
              "      <td>...</td>\n",
              "      <td>...</td>\n",
              "      <td>...</td>\n",
              "      <td>...</td>\n",
              "      <td>...</td>\n",
              "      <td>...</td>\n",
              "      <td>...</td>\n",
              "      <td>...</td>\n",
              "      <td>...</td>\n",
              "      <td>...</td>\n",
              "      <td>...</td>\n",
              "      <td>...</td>\n",
              "      <td>...</td>\n",
              "      <td>...</td>\n",
              "      <td>...</td>\n",
              "      <td>...</td>\n",
              "      <td>...</td>\n",
              "      <td>...</td>\n",
              "      <td>...</td>\n",
              "      <td>...</td>\n",
              "      <td>...</td>\n",
              "      <td>...</td>\n",
              "      <td>...</td>\n",
              "      <td>...</td>\n",
              "      <td>...</td>\n",
              "      <td>...</td>\n",
              "      <td>...</td>\n",
              "      <td>...</td>\n",
              "      <td>...</td>\n",
              "      <td>...</td>\n",
              "      <td>...</td>\n",
              "      <td>...</td>\n",
              "      <td>...</td>\n",
              "      <td>...</td>\n",
              "      <td>...</td>\n",
              "      <td>...</td>\n",
              "      <td>...</td>\n",
              "      <td>...</td>\n",
              "      <td>...</td>\n",
              "      <td>...</td>\n",
              "      <td>...</td>\n",
              "      <td>...</td>\n",
              "      <td>...</td>\n",
              "      <td>...</td>\n",
              "      <td>...</td>\n",
              "      <td>...</td>\n",
              "      <td>...</td>\n",
              "      <td>...</td>\n",
              "      <td>...</td>\n",
              "      <td>...</td>\n",
              "      <td>...</td>\n",
              "      <td>...</td>\n",
              "      <td>...</td>\n",
              "      <td>...</td>\n",
              "      <td>...</td>\n",
              "      <td>...</td>\n",
              "      <td>...</td>\n",
              "      <td>...</td>\n",
              "      <td>...</td>\n",
              "      <td>...</td>\n",
              "      <td>...</td>\n",
              "    </tr>\n",
              "    <tr>\n",
              "      <th>2478813</th>\n",
              "      <td>3</td>\n",
              "      <td>34.495808</td>\n",
              "      <td>-118.623932</td>\n",
              "      <td>2</td>\n",
              "      <td>3</td>\n",
              "      <td>100.0</td>\n",
              "      <td>18.0</td>\n",
              "      <td>28.85</td>\n",
              "      <td>10.0</td>\n",
              "      <td>5.000000</td>\n",
              "      <td>0</td>\n",
              "      <td>0</td>\n",
              "      <td>0</td>\n",
              "      <td>0</td>\n",
              "      <td>0</td>\n",
              "      <td>0</td>\n",
              "      <td>0</td>\n",
              "      <td>0</td>\n",
              "      <td>0</td>\n",
              "      <td>0</td>\n",
              "      <td>0</td>\n",
              "      <td>0</td>\n",
              "      <td>0</td>\n",
              "      <td>0</td>\n",
              "      <td>0</td>\n",
              "      <td>0</td>\n",
              "      <td>242</td>\n",
              "      <td>1121.0</td>\n",
              "      <td>0</td>\n",
              "      <td>0</td>\n",
              "      <td>1</td>\n",
              "      <td>0</td>\n",
              "      <td>0</td>\n",
              "      <td>0</td>\n",
              "      <td>0</td>\n",
              "      <td>0</td>\n",
              "      <td>1</td>\n",
              "      <td>0</td>\n",
              "      <td>0</td>\n",
              "      <td>0</td>\n",
              "      <td>0</td>\n",
              "      <td>0</td>\n",
              "      <td>0</td>\n",
              "      <td>1</td>\n",
              "      <td>0</td>\n",
              "      <td>0</td>\n",
              "      <td>0</td>\n",
              "      <td>0</td>\n",
              "      <td>0</td>\n",
              "      <td>0</td>\n",
              "      <td>0</td>\n",
              "      <td>0</td>\n",
              "      <td>0</td>\n",
              "      <td>0</td>\n",
              "      <td>0</td>\n",
              "      <td>0</td>\n",
              "      <td>0</td>\n",
              "      <td>0</td>\n",
              "      <td>0</td>\n",
              "      <td>0</td>\n",
              "      <td>0</td>\n",
              "      <td>0</td>\n",
              "      <td>0</td>\n",
              "      <td>0</td>\n",
              "      <td>0</td>\n",
              "      <td>1</td>\n",
              "      <td>0</td>\n",
              "      <td>0</td>\n",
              "      <td>0</td>\n",
              "      <td>0</td>\n",
              "      <td>0</td>\n",
              "    </tr>\n",
              "    <tr>\n",
              "      <th>2478814</th>\n",
              "      <td>3</td>\n",
              "      <td>34.031322</td>\n",
              "      <td>-118.433723</td>\n",
              "      <td>2</td>\n",
              "      <td>3</td>\n",
              "      <td>77.0</td>\n",
              "      <td>64.0</td>\n",
              "      <td>29.69</td>\n",
              "      <td>10.0</td>\n",
              "      <td>5.800000</td>\n",
              "      <td>0</td>\n",
              "      <td>0</td>\n",
              "      <td>0</td>\n",
              "      <td>0</td>\n",
              "      <td>0</td>\n",
              "      <td>0</td>\n",
              "      <td>0</td>\n",
              "      <td>0</td>\n",
              "      <td>0</td>\n",
              "      <td>0</td>\n",
              "      <td>0</td>\n",
              "      <td>0</td>\n",
              "      <td>0</td>\n",
              "      <td>0</td>\n",
              "      <td>0</td>\n",
              "      <td>0</td>\n",
              "      <td>242</td>\n",
              "      <td>1139.0</td>\n",
              "      <td>0</td>\n",
              "      <td>0</td>\n",
              "      <td>1</td>\n",
              "      <td>0</td>\n",
              "      <td>0</td>\n",
              "      <td>0</td>\n",
              "      <td>0</td>\n",
              "      <td>0</td>\n",
              "      <td>1</td>\n",
              "      <td>0</td>\n",
              "      <td>0</td>\n",
              "      <td>0</td>\n",
              "      <td>0</td>\n",
              "      <td>0</td>\n",
              "      <td>0</td>\n",
              "      <td>1</td>\n",
              "      <td>0</td>\n",
              "      <td>0</td>\n",
              "      <td>0</td>\n",
              "      <td>0</td>\n",
              "      <td>0</td>\n",
              "      <td>0</td>\n",
              "      <td>0</td>\n",
              "      <td>0</td>\n",
              "      <td>0</td>\n",
              "      <td>0</td>\n",
              "      <td>0</td>\n",
              "      <td>0</td>\n",
              "      <td>0</td>\n",
              "      <td>0</td>\n",
              "      <td>0</td>\n",
              "      <td>0</td>\n",
              "      <td>0</td>\n",
              "      <td>0</td>\n",
              "      <td>0</td>\n",
              "      <td>0</td>\n",
              "      <td>0</td>\n",
              "      <td>1</td>\n",
              "      <td>0</td>\n",
              "      <td>0</td>\n",
              "      <td>0</td>\n",
              "      <td>0</td>\n",
              "      <td>0</td>\n",
              "    </tr>\n",
              "    <tr>\n",
              "      <th>2478815</th>\n",
              "      <td>3</td>\n",
              "      <td>34.106785</td>\n",
              "      <td>-117.369102</td>\n",
              "      <td>1</td>\n",
              "      <td>3</td>\n",
              "      <td>102.2</td>\n",
              "      <td>16.0</td>\n",
              "      <td>29.73</td>\n",
              "      <td>6.0</td>\n",
              "      <td>5.800000</td>\n",
              "      <td>0</td>\n",
              "      <td>0</td>\n",
              "      <td>0</td>\n",
              "      <td>0</td>\n",
              "      <td>0</td>\n",
              "      <td>0</td>\n",
              "      <td>0</td>\n",
              "      <td>0</td>\n",
              "      <td>0</td>\n",
              "      <td>0</td>\n",
              "      <td>0</td>\n",
              "      <td>0</td>\n",
              "      <td>0</td>\n",
              "      <td>0</td>\n",
              "      <td>0</td>\n",
              "      <td>0</td>\n",
              "      <td>242</td>\n",
              "      <td>1137.0</td>\n",
              "      <td>0</td>\n",
              "      <td>0</td>\n",
              "      <td>1</td>\n",
              "      <td>0</td>\n",
              "      <td>0</td>\n",
              "      <td>0</td>\n",
              "      <td>0</td>\n",
              "      <td>0</td>\n",
              "      <td>1</td>\n",
              "      <td>0</td>\n",
              "      <td>0</td>\n",
              "      <td>0</td>\n",
              "      <td>0</td>\n",
              "      <td>0</td>\n",
              "      <td>0</td>\n",
              "      <td>1</td>\n",
              "      <td>0</td>\n",
              "      <td>0</td>\n",
              "      <td>0</td>\n",
              "      <td>0</td>\n",
              "      <td>0</td>\n",
              "      <td>0</td>\n",
              "      <td>0</td>\n",
              "      <td>0</td>\n",
              "      <td>0</td>\n",
              "      <td>0</td>\n",
              "      <td>0</td>\n",
              "      <td>0</td>\n",
              "      <td>0</td>\n",
              "      <td>0</td>\n",
              "      <td>0</td>\n",
              "      <td>0</td>\n",
              "      <td>0</td>\n",
              "      <td>0</td>\n",
              "      <td>0</td>\n",
              "      <td>0</td>\n",
              "      <td>0</td>\n",
              "      <td>1</td>\n",
              "      <td>0</td>\n",
              "      <td>0</td>\n",
              "      <td>0</td>\n",
              "      <td>0</td>\n",
              "      <td>0</td>\n",
              "    </tr>\n",
              "    <tr>\n",
              "      <th>2478816</th>\n",
              "      <td>3</td>\n",
              "      <td>33.924686</td>\n",
              "      <td>-118.103981</td>\n",
              "      <td>2</td>\n",
              "      <td>3</td>\n",
              "      <td>88.0</td>\n",
              "      <td>39.0</td>\n",
              "      <td>29.68</td>\n",
              "      <td>10.0</td>\n",
              "      <td>3.500000</td>\n",
              "      <td>0</td>\n",
              "      <td>0</td>\n",
              "      <td>0</td>\n",
              "      <td>0</td>\n",
              "      <td>0</td>\n",
              "      <td>0</td>\n",
              "      <td>0</td>\n",
              "      <td>0</td>\n",
              "      <td>0</td>\n",
              "      <td>0</td>\n",
              "      <td>0</td>\n",
              "      <td>0</td>\n",
              "      <td>1</td>\n",
              "      <td>1</td>\n",
              "      <td>0</td>\n",
              "      <td>0</td>\n",
              "      <td>242</td>\n",
              "      <td>1189.0</td>\n",
              "      <td>0</td>\n",
              "      <td>0</td>\n",
              "      <td>1</td>\n",
              "      <td>0</td>\n",
              "      <td>0</td>\n",
              "      <td>0</td>\n",
              "      <td>0</td>\n",
              "      <td>0</td>\n",
              "      <td>1</td>\n",
              "      <td>0</td>\n",
              "      <td>0</td>\n",
              "      <td>0</td>\n",
              "      <td>0</td>\n",
              "      <td>0</td>\n",
              "      <td>0</td>\n",
              "      <td>1</td>\n",
              "      <td>0</td>\n",
              "      <td>0</td>\n",
              "      <td>0</td>\n",
              "      <td>0</td>\n",
              "      <td>0</td>\n",
              "      <td>0</td>\n",
              "      <td>0</td>\n",
              "      <td>0</td>\n",
              "      <td>0</td>\n",
              "      <td>0</td>\n",
              "      <td>0</td>\n",
              "      <td>0</td>\n",
              "      <td>0</td>\n",
              "      <td>0</td>\n",
              "      <td>0</td>\n",
              "      <td>0</td>\n",
              "      <td>0</td>\n",
              "      <td>0</td>\n",
              "      <td>0</td>\n",
              "      <td>0</td>\n",
              "      <td>0</td>\n",
              "      <td>0</td>\n",
              "      <td>1</td>\n",
              "      <td>0</td>\n",
              "      <td>0</td>\n",
              "      <td>0</td>\n",
              "      <td>0</td>\n",
              "    </tr>\n",
              "    <tr>\n",
              "      <th>2478817</th>\n",
              "      <td>2</td>\n",
              "      <td>33.729469</td>\n",
              "      <td>-117.397354</td>\n",
              "      <td>2</td>\n",
              "      <td>3</td>\n",
              "      <td>89.6</td>\n",
              "      <td>40.0</td>\n",
              "      <td>29.78</td>\n",
              "      <td>10.0</td>\n",
              "      <td>3.500000</td>\n",
              "      <td>0</td>\n",
              "      <td>0</td>\n",
              "      <td>0</td>\n",
              "      <td>0</td>\n",
              "      <td>0</td>\n",
              "      <td>0</td>\n",
              "      <td>0</td>\n",
              "      <td>0</td>\n",
              "      <td>0</td>\n",
              "      <td>0</td>\n",
              "      <td>0</td>\n",
              "      <td>0</td>\n",
              "      <td>1</td>\n",
              "      <td>1</td>\n",
              "      <td>1</td>\n",
              "      <td>0</td>\n",
              "      <td>242</td>\n",
              "      <td>1217.0</td>\n",
              "      <td>0</td>\n",
              "      <td>0</td>\n",
              "      <td>1</td>\n",
              "      <td>0</td>\n",
              "      <td>0</td>\n",
              "      <td>0</td>\n",
              "      <td>0</td>\n",
              "      <td>0</td>\n",
              "      <td>1</td>\n",
              "      <td>0</td>\n",
              "      <td>0</td>\n",
              "      <td>0</td>\n",
              "      <td>0</td>\n",
              "      <td>0</td>\n",
              "      <td>0</td>\n",
              "      <td>1</td>\n",
              "      <td>0</td>\n",
              "      <td>0</td>\n",
              "      <td>0</td>\n",
              "      <td>0</td>\n",
              "      <td>0</td>\n",
              "      <td>0</td>\n",
              "      <td>0</td>\n",
              "      <td>0</td>\n",
              "      <td>0</td>\n",
              "      <td>0</td>\n",
              "      <td>0</td>\n",
              "      <td>0</td>\n",
              "      <td>0</td>\n",
              "      <td>0</td>\n",
              "      <td>0</td>\n",
              "      <td>0</td>\n",
              "      <td>0</td>\n",
              "      <td>0</td>\n",
              "      <td>0</td>\n",
              "      <td>0</td>\n",
              "      <td>0</td>\n",
              "      <td>0</td>\n",
              "      <td>0</td>\n",
              "      <td>1</td>\n",
              "      <td>0</td>\n",
              "      <td>0</td>\n",
              "      <td>0</td>\n",
              "    </tr>\n",
              "  </tbody>\n",
              "</table>\n",
              "<p>2361638 rows × 71 columns</p>\n",
              "</div>"
            ],
            "text/plain": [
              "         Severity  Start_Lat   Start_Lng  Side  ...  HHH_20  HHH_21  HHH_22  HHH_23\n",
              "0               3  39.865147  -84.058723     2  ...       0       0       0       0\n",
              "1               2  39.928059  -82.831184     1  ...       0       0       0       0\n",
              "2               2  39.063148  -84.032608     2  ...       0       0       0       0\n",
              "3               3  39.747753  -84.205582     2  ...       0       0       0       0\n",
              "4               2  39.627781  -84.188354     2  ...       0       0       0       0\n",
              "...           ...        ...         ...   ...  ...     ...     ...     ...     ...\n",
              "2478813         3  34.495808 -118.623932     2  ...       0       0       0       0\n",
              "2478814         3  34.031322 -118.433723     2  ...       0       0       0       0\n",
              "2478815         3  34.106785 -117.369102     1  ...       0       0       0       0\n",
              "2478816         3  33.924686 -118.103981     2  ...       0       0       0       0\n",
              "2478817         2  33.729469 -117.397354     2  ...       1       0       0       0\n",
              "\n",
              "[2361638 rows x 71 columns]"
            ]
          },
          "metadata": {
            "tags": []
          },
          "execution_count": 22
        }
      ]
    },
    {
      "cell_type": "code",
      "metadata": {
        "id": "psXS83JVabpE",
        "colab_type": "code",
        "colab": {
          "base_uri": "https://localhost:8080/",
          "height": 255
        },
        "outputId": "60c3ad56-a026-4232-d04c-ac3f1e104fd3"
      },
      "source": [
        "DataGD.columns"
      ],
      "execution_count": null,
      "outputs": [
        {
          "output_type": "execute_result",
          "data": {
            "text/plain": [
              "Index(['Severity', 'Start_Lat', 'Start_Lng', 'Side', 'State', 'Temperature(F)',\n",
              "       'Humidity(%)', 'Pressure(in)', 'Visibility(mi)', 'Wind_Speed(mph)',\n",
              "       'Amenity', 'Bump', 'Crossing', 'Give_Way', 'Junction', 'No_Exit',\n",
              "       'Railway', 'Roundabout', 'Station', 'Stop', 'Traffic_Calming',\n",
              "       'Traffic_Signal', 'Sunrise_Sunset', 'Civil_Twilight',\n",
              "       'Nautical_Twilight', 'Astronomical_Twilight', 'Current_Day', 'Min',\n",
              "       'Timezone_US/Eastern', 'Timezone_US/Mountain', 'Timezone_US/Pacific',\n",
              "       'WD_Mon', 'WD_Sat', 'WD_Sun', 'WD_Thu', 'WD_Tue', 'WD_Wed', 'MON_2',\n",
              "       'MON_3', 'MON_4', 'MON_5', 'MON_6', 'MON_7', 'MON_8', 'MON_9', 'MON_10',\n",
              "       'MON_11', 'MON_12', 'HHH_1', 'HHH_2', 'HHH_3', 'HHH_4', 'HHH_5',\n",
              "       'HHH_6', 'HHH_7', 'HHH_8', 'HHH_9', 'HHH_10', 'HHH_11', 'HHH_12',\n",
              "       'HHH_13', 'HHH_14', 'HHH_15', 'HHH_16', 'HHH_17', 'HHH_18', 'HHH_19',\n",
              "       'HHH_20', 'HHH_21', 'HHH_22', 'HHH_23'],\n",
              "      dtype='object')"
            ]
          },
          "metadata": {
            "tags": []
          },
          "execution_count": 23
        }
      ]
    },
    {
      "cell_type": "markdown",
      "metadata": {
        "id": "iZ5YG_5fZ-74",
        "colab_type": "text"
      },
      "source": [
        "Select features and output columns names."
      ]
    },
    {
      "cell_type": "code",
      "metadata": {
        "id": "F3eyALJmnzPY",
        "colab_type": "code",
        "colab": {}
      },
      "source": [
        "Expected_output=DataGD['Severity']\n",
        "Input_Data=DataGD[['Start_Lat', 'Start_Lng', 'Side', 'State', 'Temperature(F)',\n",
        "       'Humidity(%)', 'Pressure(in)', 'Visibility(mi)', 'Wind_Speed(mph)',\n",
        "       'Amenity', 'Bump', 'Crossing', 'Give_Way', 'Junction', 'No_Exit',\n",
        "       'Railway', 'Roundabout', 'Station', 'Stop', 'Traffic_Calming',\n",
        "       'Traffic_Signal', 'Sunrise_Sunset', 'Civil_Twilight',\n",
        "       'Nautical_Twilight', 'Astronomical_Twilight', 'Current_Day', 'Min',\n",
        "       'Timezone_US/Eastern', 'Timezone_US/Mountain', 'Timezone_US/Pacific',\n",
        "       'WD_Mon', 'WD_Sat', 'WD_Sun', 'WD_Thu', 'WD_Tue', 'WD_Wed', 'MON_2',\n",
        "       'MON_3', 'MON_4', 'MON_5', 'MON_6', 'MON_7', 'MON_8', 'MON_9', 'MON_10',\n",
        "       'MON_11', 'MON_12', 'HHH_1', 'HHH_2', 'HHH_3', 'HHH_4', 'HHH_5',\n",
        "       'HHH_6', 'HHH_7', 'HHH_8', 'HHH_9', 'HHH_10', 'HHH_11', 'HHH_12',\n",
        "       'HHH_13', 'HHH_14', 'HHH_15', 'HHH_16', 'HHH_17', 'HHH_18', 'HHH_19',\n",
        "       'HHH_20', 'HHH_21', 'HHH_22', 'HHH_23']]"
      ],
      "execution_count": null,
      "outputs": []
    },
    {
      "cell_type": "code",
      "metadata": {
        "id": "lDXs_NFta0_I",
        "colab_type": "code",
        "colab": {}
      },
      "source": [
        "Input_Data_New= StandardScaler().fit_transform(Input_Data)"
      ],
      "execution_count": null,
      "outputs": []
    },
    {
      "cell_type": "markdown",
      "metadata": {
        "id": "KbOEyQ_mbXk1",
        "colab_type": "text"
      },
      "source": [
        "Divided preprocessed data into train and test parts and used a different model for prediction."
      ]
    },
    {
      "cell_type": "code",
      "metadata": {
        "id": "K7R9ZHP9bNXr",
        "colab_type": "code",
        "colab": {}
      },
      "source": [
        "Features_train, Features_test, Expected_output_train, Expected_output_test=train_test_split(Input_Data_New, Expected_output, test_size=0.20, random_state=42)"
      ],
      "execution_count": null,
      "outputs": []
    },
    {
      "cell_type": "markdown",
      "metadata": {
        "id": "nQ4_53TNc3jg",
        "colab_type": "text"
      },
      "source": [
        "**Predictive Modeling**\n",
        "There are two types of models that can be used to predict severity of accidents, one is regression and another one is classification. Regression models can provide additional information on the severity of accidents, while classification models focus on the probabilities of an accident belongs to severity. The underlying algorithms are similar between regression and classification models, but different audience may prefer one over the other. Therefore, in this study, I carried out both regression and classification modeling.\n"
      ]
    },
    {
      "cell_type": "markdown",
      "metadata": {
        "id": "XEQjXg1Nc9i2",
        "colab_type": "text"
      },
      "source": [
        "**Regression Model**\n",
        "Regression is a form of predictive modeling, that is mostly used for extracting the relationship between input or target variable. There are a lot of regression models, but it is impossible to find out which one is superior to all other. That’s why, I applied different regression models (LinearRegression, DecisionTreeRegressor, RandomForestRegressor) using MSE, MAE, RMS as the evaluation metric. All models used same training data and same test data so that there should be the standard criteria for comparing the performance of different models. In our target column, there are 4 types of values 1,2,3,4 that show the condition of severity. Although it is a classification problem, but we can solve this problem by using regression as well as classification.\n",
        "Here in Table2, three regression models have been shown and analyzed based on different evaluation matrices. First, trained those models and compared those three types of errors.\n"
      ]
    },
    {
      "cell_type": "markdown",
      "metadata": {
        "id": "Tgxk81GbiWoF",
        "colab_type": "text"
      },
      "source": [
        "First Model"
      ]
    },
    {
      "cell_type": "code",
      "metadata": {
        "id": "kRDgQ2jrcmu1",
        "colab_type": "code",
        "colab": {
          "base_uri": "https://localhost:8080/",
          "height": 119
        },
        "outputId": "047f1b7d-0113-43c9-c9cb-99f3820ee71d"
      },
      "source": [
        "from sklearn.ensemble import RandomForestRegressor\n",
        "from sklearn.metrics import accuracy_score\n",
        "from sklearn.metrics import mean_squared_error\n",
        "One_model=RandomForestRegressor(max_depth=10,n_estimators=10)\n",
        "One_model.fit(Features_train,Expected_output_train)\n",
        "y_pred=One_model.predict(Features_train)\n",
        "y_pred_t=One_model.predict(Features_test)\n",
        "print('Mean Absolute Error:', metrics.mean_absolute_error(Expected_output_train, y_pred))  \n",
        "print('Mean Squared Error:', metrics.mean_squared_error(Expected_output_train, y_pred))  \n",
        "print('Root Mean Squared Error:', np.sqrt(metrics.mean_squared_error(Expected_output_train, y_pred)))\n",
        "print('Mean Absolute Error:', metrics.mean_absolute_error(Expected_output_test, y_pred_t))  \n",
        "print('Mean Squared Error:', metrics.mean_squared_error(Expected_output_test, y_pred_t))  \n",
        "print('Root Mean Squared Error:', np.sqrt(metrics.mean_squared_error(Expected_output_test, y_pred_t)))"
      ],
      "execution_count": null,
      "outputs": [
        {
          "output_type": "stream",
          "text": [
            "Mean Absolute Error: 0.32594866678869033\n",
            "Mean Squared Error: 0.16590242515893192\n",
            "Root Mean Squared Error: 0.40731121413353194\n",
            "Mean Absolute Error: 0.3270849713473035\n",
            "Mean Squared Error: 0.1669426952840784\n",
            "Root Mean Squared Error: 0.4085862152399153\n"
          ],
          "name": "stdout"
        }
      ]
    },
    {
      "cell_type": "markdown",
      "metadata": {
        "id": "dXUny7HhiY2b",
        "colab_type": "text"
      },
      "source": [
        "Second Model"
      ]
    },
    {
      "cell_type": "code",
      "metadata": {
        "id": "9gyMXH9QdzH3",
        "colab_type": "code",
        "colab": {
          "base_uri": "https://localhost:8080/",
          "height": 119
        },
        "outputId": "7e6c0199-6c43-4e1a-fc99-3ba68c17704e"
      },
      "source": [
        "from sklearn.linear_model import LinearRegression\n",
        "Two_model=LinearRegression()\n",
        "Two_model.fit(Features_train,Expected_output_train)\n",
        "y_pred1=Two_model.predict(Features_train)\n",
        "y_pred1_t=Two_model.predict(Features_test)\n",
        "print('Mean Absolute Error:', metrics.mean_absolute_error(Expected_output_train, y_pred1))  \n",
        "print('Mean Squared Error:', metrics.mean_squared_error(Expected_output_train, y_pred1))  \n",
        "print('Root Mean Squared Error:', np.sqrt(metrics.mean_squared_error(Expected_output_train, y_pred1)))\n",
        "print('Mean Absolute Error:', metrics.mean_absolute_error(Expected_output_test, y_pred1_t))  \n",
        "print('Mean Squared Error:', metrics.mean_squared_error(Expected_output_test, y_pred1_t))  \n",
        "print('Root Mean Squared Error:', np.sqrt(metrics.mean_squared_error(Expected_output_test, y_pred1_t)))"
      ],
      "execution_count": null,
      "outputs": [
        {
          "output_type": "stream",
          "text": [
            "Mean Absolute Error: 0.38435743824322743\n",
            "Mean Squared Error: 0.18809481783795873\n",
            "Root Mean Squared Error: 0.4336989945088168\n",
            "Mean Absolute Error: 0.38474842082195054\n",
            "Mean Squared Error: 0.18845010423281564\n",
            "Root Mean Squared Error: 0.4341084014768842\n"
          ],
          "name": "stdout"
        }
      ]
    },
    {
      "cell_type": "markdown",
      "metadata": {
        "id": "nl3c7brKisgN",
        "colab_type": "text"
      },
      "source": [
        "Third Model"
      ]
    },
    {
      "cell_type": "code",
      "metadata": {
        "id": "XFuWcBowiU2S",
        "colab_type": "code",
        "colab": {
          "base_uri": "https://localhost:8080/",
          "height": 119
        },
        "outputId": "d1af8833-cd0c-4d9a-dad9-a02b65b5f96a"
      },
      "source": [
        "from sklearn.tree import DecisionTreeRegressor\n",
        "Thrid_model=DecisionTreeRegressor()\n",
        "Thrid_model.fit(Features_train,Expected_output_train)\n",
        "y_pred2=Thrid_model.predict(Features_train)\n",
        "y_pred2_t=Thrid_model.predict(Features_test)\n",
        "print('Mean Absolute Error:', metrics.mean_absolute_error(Expected_output_train, y_pred2))  \n",
        "print('Mean Squared Error:', metrics.mean_squared_error(Expected_output_train, y_pred2))  \n",
        "print('Root Mean Squared Error:', np.sqrt(metrics.mean_squared_error(Expected_output_train, y_pred2)))\n",
        "print('Mean Absolute Error:', metrics.mean_absolute_error(Expected_output_test, y_pred2_t))  \n",
        "print('Mean Squared Error:', metrics.mean_squared_error(Expected_output_test, y_pred2_t))  \n",
        "print('Root Mean Squared Error:', np.sqrt(metrics.mean_squared_error(Expected_output_test, y_pred2_t)))"
      ],
      "execution_count": null,
      "outputs": [
        {
          "output_type": "stream",
          "text": [
            "Mean Absolute Error: 7.815904571863096e-05\n",
            "Mean Squared Error: 4.013811038597866e-05\n",
            "Root Mean Squared Error: 0.006335464496465801\n",
            "Mean Absolute Error: 0.12943547704137803\n",
            "Mean Squared Error: 0.1324482139530157\n",
            "Root Mean Squared Error: 0.3639343539060523\n"
          ],
          "name": "stdout"
        }
      ]
    },
    {
      "cell_type": "markdown",
      "metadata": {
        "id": "NXhFp1Wxj_kL",
        "colab_type": "text"
      },
      "source": [
        "**Classification models**\n",
        "Similarly, there are a lot of classification models but it is not possible to find out that the one is superior to all other in each and every scenario. That’s why, I applied different classification model (Logistic Regression, Decision Tree, Random Forest, Ada Boost, Support Vector) using classifier score as the evaluation metric. All models used the same training data and same test data, for keeping the standard criteria for comparing the performance of different models. Classification model are more straight forward. In this scenario, divided the samples into 4 classes such as severity1, severity2, severity3 and severity4. Thus the samples that were close to each other, were considered as member of the same class. In classification problem, probability of the model decides that the current record is belong to which one class.  At the end, the best one model was selected based on their respective Training and testing Score.\n"
      ]
    },
    {
      "cell_type": "markdown",
      "metadata": {
        "id": "UNS9D7APrKRS",
        "colab_type": "text"
      },
      "source": [
        "First_Model"
      ]
    },
    {
      "cell_type": "code",
      "metadata": {
        "id": "P7oa4DwOjJy9",
        "colab_type": "code",
        "colab": {
          "base_uri": "https://localhost:8080/",
          "height": 651
        },
        "outputId": "138ec231-5399-41f8-e795-dd34dcbb6d77"
      },
      "source": [
        "from sklearn.linear_model import LogisticRegression\n",
        "from sklearn.metrics import confusion_matrix\n",
        "from sklearn.metrics import roc_curve, auc\n",
        "one_false_positive_rate=dict()\n",
        "one_true_positive_rate=dict()\n",
        "roc_aucure=dict()\n",
        "figsize=(17, 6)\n",
        "Classification_model_one=LogisticRegression()\n",
        "Classification_model_one.fit(Features_train, Expected_output_train) \n",
        "y_train_pred3=Classification_model_one.predict(Features_test)  \n",
        "print(f'model score_train: {Classification_model_one.score(Features_train, Expected_output_train)}')\n",
        "print(f'model score_test: {Classification_model_one.score(Features_test, Expected_output_test)}')\n",
        "print(confusion_matrix(Expected_output_test, y_train_pred3))\n",
        "y_score=Classification_model_one.decision_function(Features_test)\n",
        "y_test_dummies = pd.get_dummies(Expected_output_test, drop_first=False).values\n",
        "for i in range(4):\n",
        "    one_false_positive_rate[i], one_true_positive_rate[i], _ = roc_curve(y_test_dummies[:, i], y_score[:, i])\n",
        "    roc_aucure[i] = auc(one_false_positive_rate[i], one_true_positive_rate[i])\n",
        "fig, ax = plt.subplots(figsize=figsize)\n",
        "ax.plot([0, 1], [0, 1], 'k--')\n",
        "ax.set_xlim([0.0, 1.0])\n",
        "ax.set_ylim([0.0, 1.05])\n",
        "ax.set_xlabel('False Positive Rate')\n",
        "ax.set_ylabel('True Positive Rate')\n",
        "ax.set_title('Receiver operating characteristic example')\n",
        "for i in range(4):\n",
        "    ax.plot(one_false_positive_rate[i], one_true_positive_rate[i], label='ROC curve (area = %0.2f) for label %i' % (roc_aucure[i], i))\n",
        "ax.legend(loc=\"best\")\n",
        "ax.grid(alpha=.4)\n",
        "sns.despine()\n",
        "plt.show()"
      ],
      "execution_count": null,
      "outputs": [
        {
          "output_type": "stream",
          "text": [
            "/usr/local/lib/python3.6/dist-packages/sklearn/linear_model/_logistic.py:940: ConvergenceWarning:\n",
            "\n",
            "lbfgs failed to converge (status=1):\n",
            "STOP: TOTAL NO. of ITERATIONS REACHED LIMIT.\n",
            "\n",
            "Increase the number of iterations (max_iter) or scale the data as shown in:\n",
            "    https://scikit-learn.org/stable/modules/preprocessing.html\n",
            "Please also refer to the documentation for alternative solver options:\n",
            "    https://scikit-learn.org/stable/modules/linear_model.html#logistic-regression\n",
            "\n"
          ],
          "name": "stderr"
        },
        {
          "output_type": "stream",
          "text": [
            "model score_train: 0.7065018445887652\n",
            "model score_test: 0.7066889957825918\n",
            "[[     0    166     33      0]\n",
            " [     0 264426  47655      8]\n",
            " [     0  89354  69361      4]\n",
            " [     0    823    496      2]]\n"
          ],
          "name": "stdout"
        },
        {
          "output_type": "display_data",
          "data": {
            "image/png": "[encoded data removed]",
            "text/plain": [
              "<Figure size 1224x432 with 1 Axes>"
            ]
          },
          "metadata": {
            "tags": [],
            "needs_background": "light"
          }
        }
      ]
    },
    {
      "cell_type": "markdown",
      "metadata": {
        "id": "aEiFt4IqrHk-",
        "colab_type": "text"
      },
      "source": [
        "Second_model"
      ]
    },
    {
      "cell_type": "code",
      "metadata": {
        "id": "GYiZeqTGMPZ4",
        "colab_type": "code",
        "colab": {
          "base_uri": "https://localhost:8080/",
          "height": 481
        },
        "outputId": "83a12dc6-340f-4815-e883-3448ee5e3242"
      },
      "source": [
        "from sklearn.ensemble import AdaBoostClassifier\n",
        "Classification_model_Two=AdaBoostClassifier()\n",
        "Classification_model_Two.fit(Features_train, Expected_output_train) \n",
        "y_train_pred5=Classification_model_Two.predict(Features_test)  \n",
        "print(f'model score_train: {Classification_model_Two.score(Features_train, Expected_output_train)}')\n",
        "print(f'model score_test: {Classification_model_Two.score(Features_test, Expected_output_test)}')\n",
        "print(confusion_matrix(Expected_output_test, y_train_pred5))\n",
        "y_score = Classification_model_Two.decision_function(Features_test)\n",
        "Two_false_positive_rate=dict()\n",
        "Two_true_positive_rate=dict()\n",
        "roc_auc = dict()\n",
        "figsize=(17, 6)\n",
        "y_test_dummies = pd.get_dummies(Expected_output_test, drop_first=False).values\n",
        "for i in range(4):\n",
        "    Two_false_positive_rate[i], Two_true_positive_rate[i], _ = roc_curve(y_test_dummies[:, i], y_score[:, i])\n",
        "    roc_auc[i] = auc(Two_false_positive_rate[i], Two_true_positive_rate[i])\n",
        "fig, ax = plt.subplots(figsize=figsize)\n",
        "ax.plot([0, 1], [0, 1], 'k--')\n",
        "ax.set_xlim([0.0, 1.0])\n",
        "ax.set_ylim([0.0, 1.05])\n",
        "ax.set_xlabel('False Positive Rate')\n",
        "ax.set_ylabel('True Positive Rate')\n",
        "ax.set_title('Receiver operating characteristic example')\n",
        "for i in range(4):\n",
        "    ax.plot(Two_false_positive_rate[i], Two_true_positive_rate[i], label='ROC curve (area = %0.2f) for label %i' % (roc_auc[i], i))\n",
        "ax.legend(loc=\"best\")\n",
        "ax.grid(alpha=.4)\n",
        "sns.despine()\n",
        "plt.show()"
      ],
      "execution_count": null,
      "outputs": [
        {
          "output_type": "stream",
          "text": [
            "model score_train: 0.7276450132588088\n",
            "model score_test: 0.7275410308090987\n",
            "[[     0    159     40      0]\n",
            " [     0 260861  51228      0]\n",
            " [     0  75945  82770      4]\n",
            " [     0    628    686      7]]\n"
          ],
          "name": "stdout"
        },
        {
          "output_type": "display_data",
          "data": {
            "image/png": "[encoded data removed]",
            "text/plain": [
              "<Figure size 1224x432 with 1 Axes>"
            ]
          },
          "metadata": {
            "tags": [],
            "needs_background": "light"
          }
        }
      ]
    },
    {
      "cell_type": "markdown",
      "metadata": {
        "id": "h8zQX2q-PMPE",
        "colab_type": "text"
      },
      "source": [
        "Third_Model"
      ]
    },
    {
      "cell_type": "code",
      "metadata": {
        "id": "DFZouordOeS1",
        "colab_type": "code",
        "colab": {
          "base_uri": "https://localhost:8080/",
          "height": 481
        },
        "outputId": "3e2ab348-f39e-43b5-9aa6-1876f406a833"
      },
      "source": [
        "from sklearn.metrics import confusion_matrix\n",
        "from sklearn.tree import DecisionTreeClassifier\n",
        "from sklearn.metrics import roc_curve, auc\n",
        "Classification_model_Three= DecisionTreeClassifier()\n",
        "Classification_model_Three.fit(Features_train,Expected_output_train) \n",
        "y_train_pred4=Classification_model_Three.predict(Features_test)  \n",
        "print(f'model score_train: {Classification_model_Three.score(Features_train,Expected_output_train)}')\n",
        "print(f'model score_test: {Classification_model_Three.score(Features_test,Expected_output_test)}')\n",
        "print(confusion_matrix(Expected_output_test, y_train_pred4))\n",
        "y_score =Classification_model_Three.fit(Features_train,Expected_output_train).predict_proba(Features_test)\n",
        "Three_false_positive_rate=dict()\n",
        "Three_true_positive_rate=dict()\n",
        "roc_auc = dict()\n",
        "figsize=(17, 6)\n",
        "y_test_dummies = pd.get_dummies(Expected_output_test, drop_first=False).values\n",
        "for i in range(4):\n",
        "    Three_false_positive_rate[i], Three_true_positive_rate[i], _ = roc_curve(y_test_dummies[:, i], y_score[:, i])\n",
        "    roc_auc[i] = auc(Three_false_positive_rate[i], Three_true_positive_rate[i])\n",
        "fig, ax = plt.subplots(figsize=figsize)\n",
        "ax.plot([0, 1], [0, 1], 'k--')\n",
        "ax.set_xlim([0.0, 1.0])\n",
        "ax.set_ylim([0.0, 1.05])\n",
        "ax.set_xlabel('False Positive Rate')\n",
        "ax.set_ylabel('True Positive Rate')\n",
        "ax.set_title('Receiver operating characteristic example')\n",
        "for i in range(4):\n",
        "    ax.plot(Three_false_positive_rate[i], Three_true_positive_rate[i], label='ROC curve (area = %0.2f) for label %i' % (roc_auc[i], i))\n",
        "ax.legend(loc=\"best\")\n",
        "ax.grid(alpha=.4)\n",
        "sns.despine()\n",
        "plt.show()"
      ],
      "execution_count": null,
      "outputs": [
        {
          "output_type": "stream",
          "text": [
            "model score_train: 0.9999232524043169\n",
            "model score_test: 0.8707931776223302\n",
            "[[     0    162     37      0]\n",
            " [   215 282526  28981    367]\n",
            " [    45  28931 128697   1046]\n",
            " [     1    304    939     77]]\n"
          ],
          "name": "stdout"
        },
        {
          "output_type": "display_data",
          "data": {
            "image/png": "[encoded data removed]",
            "text/plain": [
              "<Figure size 1224x432 with 1 Axes>"
            ]
          },
          "metadata": {
            "tags": [],
            "needs_background": "light"
          }
        }
      ]
    },
    {
      "cell_type": "markdown",
      "metadata": {
        "id": "vefPegXySZFH",
        "colab_type": "text"
      },
      "source": [
        "Fourth_Model"
      ]
    },
    {
      "cell_type": "code",
      "metadata": {
        "id": "RnYFFALuRaO9",
        "colab_type": "code",
        "colab": {
          "base_uri": "https://localhost:8080/",
          "height": 119
        },
        "outputId": "d7f3a983-55c5-4c15-9902-7a4db62c81d5"
      },
      "source": [
        "from sklearn.neighbors import KNeighborsRegressor\n",
        "Classification_model_four=KNeighborsRegressor()\n",
        "Classification_model_four.fit(Features_train, Expected_output_train) \n",
        "y_train_pred5=Classification_model_four.predict(Features_test)  \n",
        "print(f'model score_train: {Classification_model_four..score(Features_train, Expected_output_train)}')\n",
        "print(f'model score_test: {Classification_model_four..score(Features_test, Expected_output_test)}')\n",
        "print(confusion_matrix(Expected_output_test, y_train_pred6))"
      ],
      "execution_count": null,
      "outputs": [
        {
          "output_type": "stream",
          "text": [
            "model score_train: 0.6523762351218\n",
            "model score_test: 0.672376153218\n"
          ],
          "name": "stdout"
        },
        {
          "output_type": "execute_result",
          "data": {
            "text/plain": [
              "[[0, 107, 19, 1],\n",
              " [0, 202884, 28616, 365],\n",
              " [0, 82052, 30819, 261],\n",
              " [0, 8029, 2547, 332]]"
            ]
          },
          "metadata": {
            "tags": []
          },
          "execution_count": 34
        }
      ]
    },
    {
      "cell_type": "markdown",
      "metadata": {
        "id": "fifDYx_gTdux",
        "colab_type": "text"
      },
      "source": [
        "As per the requirements, all the tasks have been performed properly. After leniently visualizing and preprocessing the dataset, severity was predicted using different prediction models including regression and classification models. \n",
        "Based on the above calculations, it has been concluded that the Decision Tree Regressor and Classifier performed well in this scenario. And achieved almost 100% accuracy score while using as a classifier. Thus severity measure can easily and accurately be predicted using Decision Tree Classifier.\n"
      ]
    }
  ]
}